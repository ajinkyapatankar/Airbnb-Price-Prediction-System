{
  "nbformat": 4,
  "nbformat_minor": 0,
  "metadata": {
    "colab": {
      "name": "Capstone_Modelling.ipynb",
      "provenance": [],
      "collapsed_sections": [],
      "machine_shape": "hm",
      "include_colab_link": true
    },
    "kernelspec": {
      "name": "python3",
      "display_name": "Python 3"
    }
  },
  "cells": [
    {
      "cell_type": "markdown",
      "metadata": {
        "id": "view-in-github",
        "colab_type": "text"
      },
      "source": [
        "<a href=\"https://colab.research.google.com/github/ajinkyapatankar/Airbnb-Price-Prediction-System/blob/master/Capstone_Modelling.ipynb\" target=\"_parent\"><img src=\"https://colab.research.google.com/assets/colab-badge.svg\" alt=\"Open In Colab\"/></a>"
      ]
    },
    {
      "cell_type": "code",
      "metadata": {
        "id": "1-_6ugMB-tpf",
        "colab_type": "code",
        "colab": {}
      },
      "source": [
        "!pip install -U -q PyDrive\n",
        "from pydrive.auth import GoogleAuth\n",
        "from pydrive.drive import GoogleDrive\n",
        "from google.colab import auth\n",
        "from oauth2client.client import GoogleCredentials\n",
        "# Authenticate and create the PyDrive client.\n",
        "auth.authenticate_user()\n",
        "gauth = GoogleAuth()\n",
        "gauth.credentials = GoogleCredentials.get_application_default()\n",
        "drive = GoogleDrive(gauth)\n",
        "import pandas as pd\n",
        "import numpy as np"
      ],
      "execution_count": 0,
      "outputs": []
    },
    {
      "cell_type": "code",
      "metadata": {
        "id": "D7OiQY8m-0x4",
        "colab_type": "code",
        "colab": {}
      },
      "source": [
        "\n",
        "link_listings = 'https://drive.google.com/open?id=1dEoEnfqhUWYTt5U9S7sKAfOuB8UUgybG'\n",
        "link_reviews = 'https://drive.google.com/open?id=1-mBDclerkgdMhOldEJPMHWiZ8ZCsNWRy'"
      ],
      "execution_count": 0,
      "outputs": []
    },
    {
      "cell_type": "code",
      "metadata": {
        "id": "IWwBqqPC-8Sb",
        "colab_type": "code",
        "outputId": "3d9dc32b-20db-42a6-bc94-5397311b09e1",
        "colab": {
          "base_uri": "https://localhost:8080/",
          "height": 34
        }
      },
      "source": [
        "fluff, id = link_listings.split('=')\n",
        "print (id) # Verify that you have everything after '='"
      ],
      "execution_count": 3,
      "outputs": [
        {
          "output_type": "stream",
          "text": [
            "1dEoEnfqhUWYTt5U9S7sKAfOuB8UUgybG\n"
          ],
          "name": "stdout"
        }
      ]
    },
    {
      "cell_type": "markdown",
      "metadata": {
        "id": "vjIL7b-SWPjM",
        "colab_type": "text"
      },
      "source": [
        "Reading the Listings.csv File"
      ]
    },
    {
      "cell_type": "code",
      "metadata": {
        "id": "XwOHHiX1--5K",
        "colab_type": "code",
        "outputId": "4ed412a9-594c-48ca-ae4d-c063a266c8b8",
        "colab": {
          "base_uri": "https://localhost:8080/",
          "height": 647
        }
      },
      "source": [
        "downloaded = drive.CreateFile({'id':id}) \n",
        "downloaded.GetContentFile('listings.csv')  \n",
        "listings = pd.read_csv('listings.csv')\n",
        "listings.head()"
      ],
      "execution_count": 4,
      "outputs": [
        {
          "output_type": "stream",
          "text": [
            "/usr/local/lib/python3.6/dist-packages/IPython/core/interactiveshell.py:2718: DtypeWarning: Columns (61,62,94,95) have mixed types. Specify dtype option on import or set low_memory=False.\n",
            "  interactivity=interactivity, compiler=compiler, result=result)\n"
          ],
          "name": "stderr"
        },
        {
          "output_type": "execute_result",
          "data": {
            "text/html": [
              "<div>\n",
              "<style scoped>\n",
              "    .dataframe tbody tr th:only-of-type {\n",
              "        vertical-align: middle;\n",
              "    }\n",
              "\n",
              "    .dataframe tbody tr th {\n",
              "        vertical-align: top;\n",
              "    }\n",
              "\n",
              "    .dataframe thead th {\n",
              "        text-align: right;\n",
              "    }\n",
              "</style>\n",
              "<table border=\"1\" class=\"dataframe\">\n",
              "  <thead>\n",
              "    <tr style=\"text-align: right;\">\n",
              "      <th></th>\n",
              "      <th>id</th>\n",
              "      <th>listing_url</th>\n",
              "      <th>scrape_id</th>\n",
              "      <th>last_scraped</th>\n",
              "      <th>name</th>\n",
              "      <th>summary</th>\n",
              "      <th>space</th>\n",
              "      <th>description</th>\n",
              "      <th>experiences_offered</th>\n",
              "      <th>neighborhood_overview</th>\n",
              "      <th>notes</th>\n",
              "      <th>transit</th>\n",
              "      <th>access</th>\n",
              "      <th>interaction</th>\n",
              "      <th>house_rules</th>\n",
              "      <th>thumbnail_url</th>\n",
              "      <th>medium_url</th>\n",
              "      <th>picture_url</th>\n",
              "      <th>xl_picture_url</th>\n",
              "      <th>host_id</th>\n",
              "      <th>host_url</th>\n",
              "      <th>host_name</th>\n",
              "      <th>host_since</th>\n",
              "      <th>host_location</th>\n",
              "      <th>host_about</th>\n",
              "      <th>host_response_time</th>\n",
              "      <th>host_response_rate</th>\n",
              "      <th>host_acceptance_rate</th>\n",
              "      <th>host_is_superhost</th>\n",
              "      <th>host_thumbnail_url</th>\n",
              "      <th>host_picture_url</th>\n",
              "      <th>host_neighbourhood</th>\n",
              "      <th>host_listings_count</th>\n",
              "      <th>host_total_listings_count</th>\n",
              "      <th>host_verifications</th>\n",
              "      <th>host_has_profile_pic</th>\n",
              "      <th>host_identity_verified</th>\n",
              "      <th>street</th>\n",
              "      <th>neighbourhood</th>\n",
              "      <th>neighbourhood_cleansed</th>\n",
              "      <th>...</th>\n",
              "      <th>extra_people</th>\n",
              "      <th>minimum_nights</th>\n",
              "      <th>maximum_nights</th>\n",
              "      <th>minimum_minimum_nights</th>\n",
              "      <th>maximum_minimum_nights</th>\n",
              "      <th>minimum_maximum_nights</th>\n",
              "      <th>maximum_maximum_nights</th>\n",
              "      <th>minimum_nights_avg_ntm</th>\n",
              "      <th>maximum_nights_avg_ntm</th>\n",
              "      <th>calendar_updated</th>\n",
              "      <th>has_availability</th>\n",
              "      <th>availability_30</th>\n",
              "      <th>availability_60</th>\n",
              "      <th>availability_90</th>\n",
              "      <th>availability_365</th>\n",
              "      <th>calendar_last_scraped</th>\n",
              "      <th>number_of_reviews</th>\n",
              "      <th>number_of_reviews_ltm</th>\n",
              "      <th>first_review</th>\n",
              "      <th>last_review</th>\n",
              "      <th>review_scores_rating</th>\n",
              "      <th>review_scores_accuracy</th>\n",
              "      <th>review_scores_cleanliness</th>\n",
              "      <th>review_scores_checkin</th>\n",
              "      <th>review_scores_communication</th>\n",
              "      <th>review_scores_location</th>\n",
              "      <th>review_scores_value</th>\n",
              "      <th>requires_license</th>\n",
              "      <th>license</th>\n",
              "      <th>jurisdiction_names</th>\n",
              "      <th>instant_bookable</th>\n",
              "      <th>is_business_travel_ready</th>\n",
              "      <th>cancellation_policy</th>\n",
              "      <th>require_guest_profile_picture</th>\n",
              "      <th>require_guest_phone_verification</th>\n",
              "      <th>calculated_host_listings_count</th>\n",
              "      <th>calculated_host_listings_count_entire_homes</th>\n",
              "      <th>calculated_host_listings_count_private_rooms</th>\n",
              "      <th>calculated_host_listings_count_shared_rooms</th>\n",
              "      <th>reviews_per_month</th>\n",
              "    </tr>\n",
              "  </thead>\n",
              "  <tbody>\n",
              "    <tr>\n",
              "      <th>0</th>\n",
              "      <td>3647</td>\n",
              "      <td>https://www.airbnb.com/rooms/3647</td>\n",
              "      <td>20190912153101</td>\n",
              "      <td>2019-09-13</td>\n",
              "      <td>THE VILLAGE OF HARLEM....NEW YORK !</td>\n",
              "      <td>NaN</td>\n",
              "      <td>WELCOME TO OUR INTERNATIONAL URBAN COMMUNITY T...</td>\n",
              "      <td>WELCOME TO OUR INTERNATIONAL URBAN COMMUNITY T...</td>\n",
              "      <td>none</td>\n",
              "      <td>NaN</td>\n",
              "      <td>NaN</td>\n",
              "      <td>NaN</td>\n",
              "      <td>NaN</td>\n",
              "      <td>NaN</td>\n",
              "      <td>Upon arrival please have a legibile copy of yo...</td>\n",
              "      <td>NaN</td>\n",
              "      <td>NaN</td>\n",
              "      <td>https://a0.muscache.com/im/pictures/838341/9b3...</td>\n",
              "      <td>NaN</td>\n",
              "      <td>4632</td>\n",
              "      <td>https://www.airbnb.com/users/show/4632</td>\n",
              "      <td>Elisabeth</td>\n",
              "      <td>2008-11-25</td>\n",
              "      <td>New York, New York, United States</td>\n",
              "      <td>Make Up Artist National/ (Website hidden by Ai...</td>\n",
              "      <td>a few days or more</td>\n",
              "      <td>0%</td>\n",
              "      <td>NaN</td>\n",
              "      <td>f</td>\n",
              "      <td>https://a0.muscache.com/im/users/4632/profile_...</td>\n",
              "      <td>https://a0.muscache.com/im/users/4632/profile_...</td>\n",
              "      <td>Harlem</td>\n",
              "      <td>1.0</td>\n",
              "      <td>1.0</td>\n",
              "      <td>['email', 'phone', 'google', 'reviews', 'jumio...</td>\n",
              "      <td>t</td>\n",
              "      <td>t</td>\n",
              "      <td>New York, NY, United States</td>\n",
              "      <td>Harlem</td>\n",
              "      <td>Harlem</td>\n",
              "      <td>...</td>\n",
              "      <td>$20.00</td>\n",
              "      <td>3</td>\n",
              "      <td>7</td>\n",
              "      <td>3</td>\n",
              "      <td>3</td>\n",
              "      <td>7</td>\n",
              "      <td>7</td>\n",
              "      <td>3.0</td>\n",
              "      <td>7.0</td>\n",
              "      <td>37 months ago</td>\n",
              "      <td>t</td>\n",
              "      <td>30</td>\n",
              "      <td>60</td>\n",
              "      <td>90</td>\n",
              "      <td>365</td>\n",
              "      <td>2019-09-13</td>\n",
              "      <td>0</td>\n",
              "      <td>0</td>\n",
              "      <td>NaN</td>\n",
              "      <td>NaN</td>\n",
              "      <td>NaN</td>\n",
              "      <td>NaN</td>\n",
              "      <td>NaN</td>\n",
              "      <td>NaN</td>\n",
              "      <td>NaN</td>\n",
              "      <td>NaN</td>\n",
              "      <td>NaN</td>\n",
              "      <td>f</td>\n",
              "      <td>NaN</td>\n",
              "      <td>NaN</td>\n",
              "      <td>f</td>\n",
              "      <td>f</td>\n",
              "      <td>strict_14_with_grace_period</td>\n",
              "      <td>t</td>\n",
              "      <td>t</td>\n",
              "      <td>1</td>\n",
              "      <td>0</td>\n",
              "      <td>1</td>\n",
              "      <td>0</td>\n",
              "      <td>NaN</td>\n",
              "    </tr>\n",
              "    <tr>\n",
              "      <th>1</th>\n",
              "      <td>3831</td>\n",
              "      <td>https://www.airbnb.com/rooms/3831</td>\n",
              "      <td>20190912153101</td>\n",
              "      <td>2019-09-13</td>\n",
              "      <td>Cozy Entire Floor of Brownstone</td>\n",
              "      <td>Urban retreat: enjoy 500 s.f. floor in 1899 br...</td>\n",
              "      <td>Greetings!      We own a double-duplex brownst...</td>\n",
              "      <td>Urban retreat: enjoy 500 s.f. floor in 1899 br...</td>\n",
              "      <td>none</td>\n",
              "      <td>Just the right mix of urban center and local n...</td>\n",
              "      <td>NaN</td>\n",
              "      <td>B52 bus for a 10-minute ride to downtown Brook...</td>\n",
              "      <td>You will have exclusive use of and access to: ...</td>\n",
              "      <td>We'll be around, but since you have the top fl...</td>\n",
              "      <td>Smoking - outside please; pets allowed but ple...</td>\n",
              "      <td>NaN</td>\n",
              "      <td>NaN</td>\n",
              "      <td>https://a0.muscache.com/im/pictures/e49999c2-9...</td>\n",
              "      <td>NaN</td>\n",
              "      <td>4869</td>\n",
              "      <td>https://www.airbnb.com/users/show/4869</td>\n",
              "      <td>LisaRoxanne</td>\n",
              "      <td>2008-12-07</td>\n",
              "      <td>New York, New York, United States</td>\n",
              "      <td>Laid-back bi-coastal actor/professor/attorney.</td>\n",
              "      <td>within an hour</td>\n",
              "      <td>92%</td>\n",
              "      <td>NaN</td>\n",
              "      <td>f</td>\n",
              "      <td>https://a0.muscache.com/im/users/4869/profile_...</td>\n",
              "      <td>https://a0.muscache.com/im/users/4869/profile_...</td>\n",
              "      <td>Clinton Hill</td>\n",
              "      <td>1.0</td>\n",
              "      <td>1.0</td>\n",
              "      <td>['email', 'phone', 'reviews', 'kba']</td>\n",
              "      <td>t</td>\n",
              "      <td>t</td>\n",
              "      <td>Brooklyn, NY, United States</td>\n",
              "      <td>Brooklyn</td>\n",
              "      <td>Clinton Hill</td>\n",
              "      <td>...</td>\n",
              "      <td>$0.00</td>\n",
              "      <td>1</td>\n",
              "      <td>730</td>\n",
              "      <td>1</td>\n",
              "      <td>1</td>\n",
              "      <td>730</td>\n",
              "      <td>730</td>\n",
              "      <td>1.0</td>\n",
              "      <td>730.0</td>\n",
              "      <td>3 days ago</td>\n",
              "      <td>t</td>\n",
              "      <td>1</td>\n",
              "      <td>3</td>\n",
              "      <td>8</td>\n",
              "      <td>192</td>\n",
              "      <td>2019-09-13</td>\n",
              "      <td>279</td>\n",
              "      <td>67</td>\n",
              "      <td>2014-09-30</td>\n",
              "      <td>2019-08-29</td>\n",
              "      <td>90.0</td>\n",
              "      <td>9.0</td>\n",
              "      <td>9.0</td>\n",
              "      <td>10.0</td>\n",
              "      <td>9.0</td>\n",
              "      <td>10.0</td>\n",
              "      <td>9.0</td>\n",
              "      <td>f</td>\n",
              "      <td>NaN</td>\n",
              "      <td>NaN</td>\n",
              "      <td>f</td>\n",
              "      <td>f</td>\n",
              "      <td>moderate</td>\n",
              "      <td>f</td>\n",
              "      <td>f</td>\n",
              "      <td>1</td>\n",
              "      <td>1</td>\n",
              "      <td>0</td>\n",
              "      <td>0</td>\n",
              "      <td>4.62</td>\n",
              "    </tr>\n",
              "    <tr>\n",
              "      <th>2</th>\n",
              "      <td>5022</td>\n",
              "      <td>https://www.airbnb.com/rooms/5022</td>\n",
              "      <td>20190912153101</td>\n",
              "      <td>2019-09-13</td>\n",
              "      <td>Entire Apt: Spacious Studio/Loft by central park</td>\n",
              "      <td>NaN</td>\n",
              "      <td>Loft apartment with high ceiling and wood floo...</td>\n",
              "      <td>Loft apartment with high ceiling and wood floo...</td>\n",
              "      <td>none</td>\n",
              "      <td>NaN</td>\n",
              "      <td>NaN</td>\n",
              "      <td>NaN</td>\n",
              "      <td>NaN</td>\n",
              "      <td>NaN</td>\n",
              "      <td>Please be considerate when staying in the apar...</td>\n",
              "      <td>NaN</td>\n",
              "      <td>NaN</td>\n",
              "      <td>https://a0.muscache.com/im/pictures/feb453bd-f...</td>\n",
              "      <td>NaN</td>\n",
              "      <td>7192</td>\n",
              "      <td>https://www.airbnb.com/users/show/7192</td>\n",
              "      <td>Laura</td>\n",
              "      <td>2009-01-29</td>\n",
              "      <td>Miami, Florida, United States</td>\n",
              "      <td>I have been a NYer for almost 10 years. I came...</td>\n",
              "      <td>NaN</td>\n",
              "      <td>NaN</td>\n",
              "      <td>NaN</td>\n",
              "      <td>f</td>\n",
              "      <td>https://a0.muscache.com/im/users/7192/profile_...</td>\n",
              "      <td>https://a0.muscache.com/im/users/7192/profile_...</td>\n",
              "      <td>East Harlem</td>\n",
              "      <td>1.0</td>\n",
              "      <td>1.0</td>\n",
              "      <td>['email', 'phone', 'facebook', 'reviews', 'kba']</td>\n",
              "      <td>t</td>\n",
              "      <td>t</td>\n",
              "      <td>New York, NY, United States</td>\n",
              "      <td>East Harlem</td>\n",
              "      <td>East Harlem</td>\n",
              "      <td>...</td>\n",
              "      <td>$20.00</td>\n",
              "      <td>10</td>\n",
              "      <td>120</td>\n",
              "      <td>10</td>\n",
              "      <td>10</td>\n",
              "      <td>120</td>\n",
              "      <td>120</td>\n",
              "      <td>10.0</td>\n",
              "      <td>120.0</td>\n",
              "      <td>6 months ago</td>\n",
              "      <td>t</td>\n",
              "      <td>0</td>\n",
              "      <td>0</td>\n",
              "      <td>0</td>\n",
              "      <td>0</td>\n",
              "      <td>2019-09-13</td>\n",
              "      <td>9</td>\n",
              "      <td>2</td>\n",
              "      <td>2012-03-20</td>\n",
              "      <td>2018-11-19</td>\n",
              "      <td>93.0</td>\n",
              "      <td>10.0</td>\n",
              "      <td>9.0</td>\n",
              "      <td>10.0</td>\n",
              "      <td>10.0</td>\n",
              "      <td>9.0</td>\n",
              "      <td>10.0</td>\n",
              "      <td>f</td>\n",
              "      <td>NaN</td>\n",
              "      <td>NaN</td>\n",
              "      <td>f</td>\n",
              "      <td>f</td>\n",
              "      <td>strict_14_with_grace_period</td>\n",
              "      <td>t</td>\n",
              "      <td>t</td>\n",
              "      <td>1</td>\n",
              "      <td>1</td>\n",
              "      <td>0</td>\n",
              "      <td>0</td>\n",
              "      <td>0.10</td>\n",
              "    </tr>\n",
              "    <tr>\n",
              "      <th>3</th>\n",
              "      <td>5099</td>\n",
              "      <td>https://www.airbnb.com/rooms/5099</td>\n",
              "      <td>20190912153101</td>\n",
              "      <td>2019-09-13</td>\n",
              "      <td>Large Cozy 1 BR Apartment In Midtown East</td>\n",
              "      <td>My large 1 bedroom apartment has a true New Yo...</td>\n",
              "      <td>I have a large 1 bedroom apartment centrally l...</td>\n",
              "      <td>My large 1 bedroom apartment has a true New Yo...</td>\n",
              "      <td>none</td>\n",
              "      <td>My neighborhood in Midtown East is called Murr...</td>\n",
              "      <td>Read My Full Listing For All Information. New ...</td>\n",
              "      <td>From the apartment is a 10 minute walk to Gran...</td>\n",
              "      <td>I will meet you upon arrival.</td>\n",
              "      <td>I usually check in with guests via text or ema...</td>\n",
              "      <td>• Check-in time is 2PM. • Check-out time is 12...</td>\n",
              "      <td>NaN</td>\n",
              "      <td>NaN</td>\n",
              "      <td>https://a0.muscache.com/im/pictures/6b9804f2-1...</td>\n",
              "      <td>NaN</td>\n",
              "      <td>7322</td>\n",
              "      <td>https://www.airbnb.com/users/show/7322</td>\n",
              "      <td>Chris</td>\n",
              "      <td>2009-02-02</td>\n",
              "      <td>New York, New York, United States</td>\n",
              "      <td>I'm an artist, writer, traveler, and a native ...</td>\n",
              "      <td>within a day</td>\n",
              "      <td>78%</td>\n",
              "      <td>NaN</td>\n",
              "      <td>f</td>\n",
              "      <td>https://a0.muscache.com/im/pictures/user/26745...</td>\n",
              "      <td>https://a0.muscache.com/im/pictures/user/26745...</td>\n",
              "      <td>Flatiron District</td>\n",
              "      <td>1.0</td>\n",
              "      <td>1.0</td>\n",
              "      <td>['email', 'phone', 'reviews', 'jumio', 'govern...</td>\n",
              "      <td>t</td>\n",
              "      <td>f</td>\n",
              "      <td>New York, NY, United States</td>\n",
              "      <td>Midtown East</td>\n",
              "      <td>Murray Hill</td>\n",
              "      <td>...</td>\n",
              "      <td>$100.00</td>\n",
              "      <td>3</td>\n",
              "      <td>21</td>\n",
              "      <td>3</td>\n",
              "      <td>3</td>\n",
              "      <td>21</td>\n",
              "      <td>21</td>\n",
              "      <td>3.0</td>\n",
              "      <td>21.0</td>\n",
              "      <td>today</td>\n",
              "      <td>t</td>\n",
              "      <td>3</td>\n",
              "      <td>3</td>\n",
              "      <td>13</td>\n",
              "      <td>13</td>\n",
              "      <td>2019-09-13</td>\n",
              "      <td>75</td>\n",
              "      <td>10</td>\n",
              "      <td>2009-04-20</td>\n",
              "      <td>2019-07-21</td>\n",
              "      <td>89.0</td>\n",
              "      <td>10.0</td>\n",
              "      <td>9.0</td>\n",
              "      <td>10.0</td>\n",
              "      <td>10.0</td>\n",
              "      <td>9.0</td>\n",
              "      <td>9.0</td>\n",
              "      <td>f</td>\n",
              "      <td>NaN</td>\n",
              "      <td>NaN</td>\n",
              "      <td>f</td>\n",
              "      <td>f</td>\n",
              "      <td>moderate</td>\n",
              "      <td>t</td>\n",
              "      <td>t</td>\n",
              "      <td>1</td>\n",
              "      <td>1</td>\n",
              "      <td>0</td>\n",
              "      <td>0</td>\n",
              "      <td>0.59</td>\n",
              "    </tr>\n",
              "    <tr>\n",
              "      <th>4</th>\n",
              "      <td>5121</td>\n",
              "      <td>https://www.airbnb.com/rooms/5121</td>\n",
              "      <td>20190912153101</td>\n",
              "      <td>2019-09-13</td>\n",
              "      <td>BlissArtsSpace!</td>\n",
              "      <td>NaN</td>\n",
              "      <td>HELLO EVERYONE AND THANKS FOR VISITING BLISS A...</td>\n",
              "      <td>HELLO EVERYONE AND THANKS FOR VISITING BLISS A...</td>\n",
              "      <td>none</td>\n",
              "      <td>NaN</td>\n",
              "      <td>NaN</td>\n",
              "      <td>NaN</td>\n",
              "      <td>NaN</td>\n",
              "      <td>NaN</td>\n",
              "      <td>NaN</td>\n",
              "      <td>NaN</td>\n",
              "      <td>NaN</td>\n",
              "      <td>https://a0.muscache.com/im/pictures/2090980c-b...</td>\n",
              "      <td>NaN</td>\n",
              "      <td>7356</td>\n",
              "      <td>https://www.airbnb.com/users/show/7356</td>\n",
              "      <td>Garon</td>\n",
              "      <td>2009-02-03</td>\n",
              "      <td>New York, New York, United States</td>\n",
              "      <td>I am an artist(painter, filmmaker) and curato...</td>\n",
              "      <td>a few days or more</td>\n",
              "      <td>0%</td>\n",
              "      <td>NaN</td>\n",
              "      <td>f</td>\n",
              "      <td>https://a0.muscache.com/im/pictures/72a61bea-c...</td>\n",
              "      <td>https://a0.muscache.com/im/pictures/72a61bea-c...</td>\n",
              "      <td>Bedford-Stuyvesant</td>\n",
              "      <td>1.0</td>\n",
              "      <td>1.0</td>\n",
              "      <td>['email', 'phone', 'facebook', 'reviews', 'off...</td>\n",
              "      <td>t</td>\n",
              "      <td>f</td>\n",
              "      <td>Brooklyn, NY, United States</td>\n",
              "      <td>Bedford-Stuyvesant</td>\n",
              "      <td>Bedford-Stuyvesant</td>\n",
              "      <td>...</td>\n",
              "      <td>$30.00</td>\n",
              "      <td>45</td>\n",
              "      <td>730</td>\n",
              "      <td>45</td>\n",
              "      <td>45</td>\n",
              "      <td>730</td>\n",
              "      <td>730</td>\n",
              "      <td>45.0</td>\n",
              "      <td>730.0</td>\n",
              "      <td>20 months ago</td>\n",
              "      <td>t</td>\n",
              "      <td>0</td>\n",
              "      <td>0</td>\n",
              "      <td>0</td>\n",
              "      <td>0</td>\n",
              "      <td>2019-09-13</td>\n",
              "      <td>49</td>\n",
              "      <td>0</td>\n",
              "      <td>2009-05-28</td>\n",
              "      <td>2017-10-05</td>\n",
              "      <td>90.0</td>\n",
              "      <td>8.0</td>\n",
              "      <td>8.0</td>\n",
              "      <td>10.0</td>\n",
              "      <td>10.0</td>\n",
              "      <td>9.0</td>\n",
              "      <td>9.0</td>\n",
              "      <td>f</td>\n",
              "      <td>NaN</td>\n",
              "      <td>NaN</td>\n",
              "      <td>f</td>\n",
              "      <td>f</td>\n",
              "      <td>strict_14_with_grace_period</td>\n",
              "      <td>f</td>\n",
              "      <td>f</td>\n",
              "      <td>1</td>\n",
              "      <td>0</td>\n",
              "      <td>1</td>\n",
              "      <td>0</td>\n",
              "      <td>0.39</td>\n",
              "    </tr>\n",
              "  </tbody>\n",
              "</table>\n",
              "<p>5 rows × 106 columns</p>\n",
              "</div>"
            ],
            "text/plain": [
              "     id  ... reviews_per_month\n",
              "0  3647  ...               NaN\n",
              "1  3831  ...              4.62\n",
              "2  5022  ...              0.10\n",
              "3  5099  ...              0.59\n",
              "4  5121  ...              0.39\n",
              "\n",
              "[5 rows x 106 columns]"
            ]
          },
          "metadata": {
            "tags": []
          },
          "execution_count": 4
        }
      ]
    },
    {
      "cell_type": "code",
      "metadata": {
        "id": "q2pnmEp2_BBL",
        "colab_type": "code",
        "outputId": "1e4fe203-2c04-4ae2-fa9a-6110256789b1",
        "colab": {
          "base_uri": "https://localhost:8080/",
          "height": 34
        }
      },
      "source": [
        "fluff, id = link_reviews.split('=')\n",
        "print (id) # Verify that you have everything after '='"
      ],
      "execution_count": 5,
      "outputs": [
        {
          "output_type": "stream",
          "text": [
            "1-mBDclerkgdMhOldEJPMHWiZ8ZCsNWRy\n"
          ],
          "name": "stdout"
        }
      ]
    },
    {
      "cell_type": "markdown",
      "metadata": {
        "id": "hIAIXJcQWVp8",
        "colab_type": "text"
      },
      "source": [
        "Reading the reviews.csv file"
      ]
    },
    {
      "cell_type": "code",
      "metadata": {
        "id": "2JuBVzpV_EEt",
        "colab_type": "code",
        "outputId": "c1beac75-2056-429d-ce99-11eb6895188b",
        "colab": {
          "base_uri": "https://localhost:8080/",
          "height": 402
        }
      },
      "source": [
        "downloaded = drive.CreateFile({'id':id}) \n",
        "downloaded.GetContentFile('reviews.csv')  \n",
        "reviews = pd.read_csv('reviews.csv')\n",
        "reviews.loc[reviews['listing_id'] == 3831]"
      ],
      "execution_count": 6,
      "outputs": [
        {
          "output_type": "execute_result",
          "data": {
            "text/html": [
              "<div>\n",
              "<style scoped>\n",
              "    .dataframe tbody tr th:only-of-type {\n",
              "        vertical-align: middle;\n",
              "    }\n",
              "\n",
              "    .dataframe tbody tr th {\n",
              "        vertical-align: top;\n",
              "    }\n",
              "\n",
              "    .dataframe thead th {\n",
              "        text-align: right;\n",
              "    }\n",
              "</style>\n",
              "<table border=\"1\" class=\"dataframe\">\n",
              "  <thead>\n",
              "    <tr style=\"text-align: right;\">\n",
              "      <th></th>\n",
              "      <th>listing_id</th>\n",
              "      <th>id</th>\n",
              "      <th>date</th>\n",
              "      <th>reviewer_id</th>\n",
              "      <th>reviewer_name</th>\n",
              "      <th>comments</th>\n",
              "    </tr>\n",
              "  </thead>\n",
              "  <tbody>\n",
              "    <tr>\n",
              "      <th>0</th>\n",
              "      <td>3831</td>\n",
              "      <td>20509269</td>\n",
              "      <td>2014-09-30</td>\n",
              "      <td>20417598</td>\n",
              "      <td>Courtney</td>\n",
              "      <td>lisa is a wonderful, kind and thoughtful host....</td>\n",
              "    </tr>\n",
              "    <tr>\n",
              "      <th>1</th>\n",
              "      <td>3831</td>\n",
              "      <td>22232975</td>\n",
              "      <td>2014-11-02</td>\n",
              "      <td>6050386</td>\n",
              "      <td>Monica</td>\n",
              "      <td>The best thing about this place is the locatio...</td>\n",
              "    </tr>\n",
              "    <tr>\n",
              "      <th>2</th>\n",
              "      <td>3831</td>\n",
              "      <td>22550887</td>\n",
              "      <td>2014-11-09</td>\n",
              "      <td>15051380</td>\n",
              "      <td>Lynette</td>\n",
              "      <td>LisaRoxanne was friendly and helpful. The room...</td>\n",
              "    </tr>\n",
              "    <tr>\n",
              "      <th>3</th>\n",
              "      <td>3831</td>\n",
              "      <td>22984049</td>\n",
              "      <td>2014-11-19</td>\n",
              "      <td>7279245</td>\n",
              "      <td>Linnea</td>\n",
              "      <td>LisaRoxanne is very nice and communicative. Th...</td>\n",
              "    </tr>\n",
              "    <tr>\n",
              "      <th>4</th>\n",
              "      <td>3831</td>\n",
              "      <td>23604706</td>\n",
              "      <td>2014-12-06</td>\n",
              "      <td>16310850</td>\n",
              "      <td>Benjamin</td>\n",
              "      <td>Lisa was a very pleasant and nice host that ac...</td>\n",
              "    </tr>\n",
              "    <tr>\n",
              "      <th>...</th>\n",
              "      <td>...</td>\n",
              "      <td>...</td>\n",
              "      <td>...</td>\n",
              "      <td>...</td>\n",
              "      <td>...</td>\n",
              "      <td>...</td>\n",
              "    </tr>\n",
              "    <tr>\n",
              "      <th>274</th>\n",
              "      <td>3831</td>\n",
              "      <td>499514908</td>\n",
              "      <td>2019-07-31</td>\n",
              "      <td>9118490</td>\n",
              "      <td>Frédéric</td>\n",
              "      <td>Thank you for our stay Lisa Roxanne and your w...</td>\n",
              "    </tr>\n",
              "    <tr>\n",
              "      <th>275</th>\n",
              "      <td>3831</td>\n",
              "      <td>510816688</td>\n",
              "      <td>2019-08-16</td>\n",
              "      <td>9384571</td>\n",
              "      <td>Dena</td>\n",
              "      <td>We decided not stay for the 5 nights we reserv...</td>\n",
              "    </tr>\n",
              "    <tr>\n",
              "      <th>276</th>\n",
              "      <td>3831</td>\n",
              "      <td>517473803</td>\n",
              "      <td>2019-08-25</td>\n",
              "      <td>113239672</td>\n",
              "      <td>Savannah</td>\n",
              "      <td>This space was perfect for my husband and I to...</td>\n",
              "    </tr>\n",
              "    <tr>\n",
              "      <th>277</th>\n",
              "      <td>3831</td>\n",
              "      <td>518361546</td>\n",
              "      <td>2019-08-26</td>\n",
              "      <td>276123109</td>\n",
              "      <td>Rajkumar</td>\n",
              "      <td>Nice place in Brooklyn for stay</td>\n",
              "    </tr>\n",
              "    <tr>\n",
              "      <th>278</th>\n",
              "      <td>3831</td>\n",
              "      <td>519984109</td>\n",
              "      <td>2019-08-29</td>\n",
              "      <td>20322066</td>\n",
              "      <td>Jaromír</td>\n",
              "      <td>Great location only 10 mins from  C train, Lis...</td>\n",
              "    </tr>\n",
              "  </tbody>\n",
              "</table>\n",
              "<p>279 rows × 6 columns</p>\n",
              "</div>"
            ],
            "text/plain": [
              "     listing_id  ...                                           comments\n",
              "0          3831  ...  lisa is a wonderful, kind and thoughtful host....\n",
              "1          3831  ...  The best thing about this place is the locatio...\n",
              "2          3831  ...  LisaRoxanne was friendly and helpful. The room...\n",
              "3          3831  ...  LisaRoxanne is very nice and communicative. Th...\n",
              "4          3831  ...  Lisa was a very pleasant and nice host that ac...\n",
              "..          ...  ...                                                ...\n",
              "274        3831  ...  Thank you for our stay Lisa Roxanne and your w...\n",
              "275        3831  ...  We decided not stay for the 5 nights we reserv...\n",
              "276        3831  ...  This space was perfect for my husband and I to...\n",
              "277        3831  ...                    Nice place in Brooklyn for stay\n",
              "278        3831  ...  Great location only 10 mins from  C train, Lis...\n",
              "\n",
              "[279 rows x 6 columns]"
            ]
          },
          "metadata": {
            "tags": []
          },
          "execution_count": 6
        }
      ]
    },
    {
      "cell_type": "markdown",
      "metadata": {
        "id": "XTmueU_EXCgJ",
        "colab_type": "text"
      },
      "source": [
        "Dropping all the irrelavent columns"
      ]
    },
    {
      "cell_type": "code",
      "metadata": {
        "id": "z8hkU7Xu_H2-",
        "colab_type": "code",
        "colab": {}
      },
      "source": [
        "cols_to_drop = ['listing_url', 'scrape_id', 'last_scraped', 'name', 'summary', 'space', 'description', \n",
        "                'neighborhood_overview', 'notes', 'transit', 'access', 'interaction', 'house_rules', \n",
        "                'thumbnail_url', 'medium_url', 'picture_url', 'xl_picture_url', 'host_id', 'host_url', \n",
        "                'host_name', 'host_location', 'host_about', 'host_thumbnail_url', 'host_picture_url', \n",
        "                'host_neighbourhood', 'host_verifications', 'calendar_last_scraped','experiences_offered',\n",
        "                'host_acceptance_rate','street','city','state','zipcode','country_code','country',\n",
        "                'is_location_exact','license','jurisdiction_names','is_business_travel_ready','square_feet',\n",
        "               'weekly_price','monthly_price','last_review','first_review','maximum_nights_avg_ntm','minimum_nights_avg_ntm',\n",
        "                'maximum_maximum_nights','minimum_maximum_nights','maximum_minimum_nights','minimum_minimum_nights','host_has_profile_pic',\n",
        "                'has_availability','require_guest_profile_picture', 'require_guest_phone_verification','requires_license','host_total_listings_count', \n",
        "                'calculated_host_listings_count', 'calculated_host_listings_count_entire_homes', 'calculated_host_listings_count_private_rooms', 'calculated_host_listings_count_shared_rooms']\n",
        "listings = listings.drop(cols_to_drop, axis=1)\n"
      ],
      "execution_count": 0,
      "outputs": []
    },
    {
      "cell_type": "markdown",
      "metadata": {
        "id": "uUU7TQgkYXVn",
        "colab_type": "text"
      },
      "source": [
        "Calculating the no. of Days from the date column of Host_Since"
      ]
    },
    {
      "cell_type": "code",
      "metadata": {
        "id": "sSJvCfpd_SZ8",
        "colab_type": "code",
        "outputId": "790f833b-3abe-4d20-faf8-23aaebb97090",
        "colab": {
          "base_uri": "https://localhost:8080/",
          "height": 50
        }
      },
      "source": [
        "df=listings\n",
        "from datetime import datetime\n",
        "# Converting to datetime\n",
        "df.host_since = pd.to_datetime(df.host_since) \n",
        "\n",
        "# Calculating the number of days\n",
        "df['host_days_active'] = (datetime(2019, 4, 9) - df.host_since).astype('timedelta64[D]')\n",
        "\n",
        "# Printing mean and median\n",
        "print(\"Mean days as host:\", round(df['host_days_active'].mean(),0))\n",
        "print(\"Median days as host:\", df['host_days_active'].median())\n",
        "\n",
        "# Replacing null values with the median\n",
        "df.host_days_active.fillna(df.host_days_active.median(), inplace=True)"
      ],
      "execution_count": 8,
      "outputs": [
        {
          "output_type": "stream",
          "text": [
            "Mean days as host: 1420.0\n",
            "Median days as host: 1424.0\n"
          ],
          "name": "stdout"
        }
      ]
    },
    {
      "cell_type": "code",
      "metadata": {
        "id": "FXWsAMfqAsVi",
        "colab_type": "code",
        "outputId": "158801ea-4ab9-49f2-e84a-1b254cf41770",
        "colab": {
          "base_uri": "https://localhost:8080/",
          "height": 118
        }
      },
      "source": [
        "df.host_response_time.fillna(\"unknown\", inplace=True)\n",
        "df.host_response_time.value_counts(normalize=True)"
      ],
      "execution_count": 9,
      "outputs": [
        {
          "output_type": "execute_result",
          "data": {
            "text/plain": [
              "within an hour        0.394712\n",
              "unknown               0.339335\n",
              "within a few hours    0.153441\n",
              "within a day          0.093950\n",
              "a few days or more    0.018563\n",
              "Name: host_response_time, dtype: float64"
            ]
          },
          "metadata": {
            "tags": []
          },
          "execution_count": 9
        }
      ]
    },
    {
      "cell_type": "markdown",
      "metadata": {
        "id": "FMoQ-RHXYi6v",
        "colab_type": "text"
      },
      "source": [
        "One Hot Encoding for the amenities"
      ]
    },
    {
      "cell_type": "code",
      "metadata": {
        "id": "saW8Xj3YA0g0",
        "colab_type": "code",
        "colab": {}
      },
      "source": [
        "l=[[word.strip('[\" ]') for word in row[1:-1].split(',')] for row in list(df['amenities'])]\n",
        "#for demonstration, reducing data to 100 rows\n",
        "l=l[:100]#remove this line to include whole data\n",
        "cols=set(word for row in l  for word in row)"
      ],
      "execution_count": 0,
      "outputs": []
    },
    {
      "cell_type": "code",
      "metadata": {
        "id": "7eIS3PRMA7G7",
        "colab_type": "code",
        "outputId": "45436da1-6564-42e2-b541-4ef5c06a3546",
        "colab": {
          "base_uri": "https://localhost:8080/",
          "height": 50
        }
      },
      "source": [
        "df.loc[df['amenities'].str.contains('24-hour check-in'), 'check_in_24h'] = 1\n",
        "df.loc[df['amenities'].str.contains('Air conditioning'), 'air_conditioning'] = 1\n",
        "df.loc[df['amenities'].str.contains('Game console'), 'Game console'] = 1\n",
        "df.loc[df['amenities'].str.contains('BBQ grill'), 'bbq'] = 1\n",
        "df.loc[df['amenities'].str.contains('Balcony|Patio'), 'balcony'] = 1\n",
        "df.loc[df['amenities'].str.contains('Waterfront'), 'nature_and_views'] = 1\n",
        "df.loc[df['amenities'].str.contains('Bed linens'), 'bed_linen'] = 1\n",
        "df.loc[df['amenities'].str.contains('Breakfast'), 'breakfast'] = 1\n",
        "df.loc[df['amenities'].str.contains('TV|Cable TV'), 'tv'] = 1\n",
        "df.loc[df['amenities'].str.contains('Coffee maker'), 'coffee_machine'] = 1\n",
        "df.loc[df['amenities'].str.contains('Cooking basics|Kitchen|Refrigirator|Stove|Oven|Dishwasher|Dishes|silverware'), 'cooking_basics'] = 1\n",
        "df.loc[df['amenities'].str.contains('Carbon monoxide detector|Smoke detector|Fire extinguisher'), 'Smoked_detection'] = 1\n",
        "df.loc[df['amenities'].str.contains('parking|Parking'), 'parking'] = 1\n",
        "df.loc[df['amenities'].str.contains('Hair dryer|shampoo'), 'Bathroom_amenities'] = 1\n",
        "df.loc[df['amenities'].str.contains('Family/kid friendly|Children|children|Changing table|child_friendly|Baby|crib|High chair'), 'child_friendly'] = 1\n",
        "df.loc[df['amenities'].str.contains('Dryer|Washer|Washer/Dryer'),'Laundry'] = 1\n",
        "df.loc[df['amenities'].str.contains('Elevator'), 'elevator'] = 1\n",
        "df.loc[df['amenities'].str.contains('Gym'), 'gym'] = 1\n",
        "df.loc[df['amenities'].str.contains('Garden|Backyard'), 'outdoor_space'] = 1\n",
        "df.loc[df['amenities'].str.contains('Host greets you'), 'host_greeting'] = 1\n",
        "df.loc[df['amenities'].str.contains('Internet|Pocket wifi|Wifi|Ethernet connection'),'internet'] = 1\n",
        "df.loc[df['amenities'].str.contains('Long term stays allowed'), 'long_term_stays'] = 1\n",
        "df.loc[df['amenities'].str.contains('Pets|pet|Cat(s)|Dog(s)|Pets live on this property'), 'pets_allowed'] = 1\n",
        "df.loc[df['amenities'].str.contains('Private entrance'), 'private_entrance'] = 1\n",
        "df.loc[df['amenities'].str.contains('Safety card|Keypad|Smart lock|Lock|Buzzer'), 'secure'] = 1\n",
        "df.loc[df['amenities'].str.contains('Self check-in'), 'self_check_in'] = 1\n",
        "df.loc[df['amenities'].str.contains('Smoking allowed'), 'smoking_allowed'] = 1\n",
        "df.loc[df['amenities'].str.contains('Suitable for events'), 'event_suitable'] = 1\n",
        "df.loc[df['amenities'].str.contains('Pool'), 'pool'] = 1\n",
        "df.loc[df['amenities'].str.contains('Heating'), 'Heating'] = 1\n",
        "df.loc[df['amenities'].str.contains('Falt path to guest entrance|Wheelchair|No staris or steps|Accessible'), 'accessible'] = 1\n",
        "df.loc[df['amenities'].str.contains('Well-lit path to entrance'), 'well_lit_entrance'] = 1\n",
        "df.loc[df['amenities'].str.contains('Essentials'), 'essentials'] = 1\n",
        "df.loc[df['amenities'].str.contains('Indoor fireplace'), 'indoor_fireplace'] = 1"
      ],
      "execution_count": 11,
      "outputs": [
        {
          "output_type": "stream",
          "text": [
            "/usr/local/lib/python3.6/dist-packages/pandas/core/strings.py:1843: UserWarning: This pattern has match groups. To actually get the groups, use str.extract.\n",
            "  return func(self, *args, **kwargs)\n"
          ],
          "name": "stderr"
        }
      ]
    },
    {
      "cell_type": "code",
      "metadata": {
        "id": "EVAtruwSA9gA",
        "colab_type": "code",
        "colab": {}
      },
      "source": [
        "#df.loc[df['amenities'].str.contains('Internet|Pocket wifi|Wifi|'), 'internet'] = 1\n",
        "#df.loc[df['amenities'].str.contains('Pets|pet|Cat(s)|Dog(s)'), 'pets_allowed'] = 1\n",
        "list_amm = list(df.columns[47:])"
      ],
      "execution_count": 0,
      "outputs": []
    },
    {
      "cell_type": "code",
      "metadata": {
        "id": "e72paySaejVA",
        "colab_type": "code",
        "colab": {}
      },
      "source": [
        "def bin_column(col, bins, labels, na_label='unknown'):\n",
        "    \"\"\"\n",
        "    Takes in a column name, bin cut points and labels, replaces the original column with a\n",
        "    binned version, and replaces nulls (with 'unknown' if unspecified).\n",
        "    \"\"\"\n",
        "    df[col] = pd.cut(df[col], bins=bins, labels=labels, include_lowest=True)\n",
        "    df[col] = df[col].astype('str')\n",
        "    df[col].fillna(na_label, inplace=True)"
      ],
      "execution_count": 0,
      "outputs": []
    },
    {
      "cell_type": "code",
      "metadata": {
        "id": "LBK63IGaejfB",
        "colab_type": "code",
        "colab": {}
      },
      "source": [
        "bin_column('review_scores_rating',\n",
        "           bins=[0, 80, 95, 100],\n",
        "           labels=['0-79/100', '80-94/100', '95-100/100'],\n",
        "           na_label='no reviews')"
      ],
      "execution_count": 0,
      "outputs": []
    },
    {
      "cell_type": "code",
      "metadata": {
        "id": "aDmsqPUjDgv4",
        "colab_type": "code",
        "colab": {}
      },
      "source": [
        "bin_column('review_scores_value',\n",
        "               bins=[0, 8, 9, 10],\n",
        "               labels=['0-8/10', '9/10', '10/10'],\n",
        "               na_label='no reviews')\n"
      ],
      "execution_count": 0,
      "outputs": []
    },
    {
      "cell_type": "markdown",
      "metadata": {
        "id": "uxoa13LkL2L1",
        "colab_type": "text"
      },
      "source": [
        "Host Response Rate"
      ]
    },
    {
      "cell_type": "code",
      "metadata": {
        "id": "tLLNhnwwL5eR",
        "colab_type": "code",
        "outputId": "fa25ae4e-309e-42ca-8557-2cbd8adc32e3",
        "colab": {
          "base_uri": "https://localhost:8080/",
          "height": 50
        }
      },
      "source": [
        "print(\"Null values:\", df.host_response_rate.isna().sum())\n",
        "print(f\"Proportion: {round((df.host_response_rate.isna().sum()/len(df))*100, 1)}%\")"
      ],
      "execution_count": 16,
      "outputs": [
        {
          "output_type": "stream",
          "text": [
            "Null values: 16416\n",
            "Proportion: 33.9%\n"
          ],
          "name": "stdout"
        }
      ]
    },
    {
      "cell_type": "code",
      "metadata": {
        "id": "z82tFKeSL5ho",
        "colab_type": "code",
        "outputId": "2038f746-2a9b-4048-ecd8-fc97ff740191",
        "colab": {
          "base_uri": "https://localhost:8080/",
          "height": 67
        }
      },
      "source": [
        "# Removing the % sign from the host_response_rate string and converting to an integer\n",
        "df.host_response_rate = df.host_response_rate.str[:-1].astype('float64')\n",
        "\n",
        "print(\"Mean host response rate:\", round(df['host_response_rate'].mean(),0))\n",
        "print(\"Median host response rate:\", df['host_response_rate'].median())\n",
        "print(f\"Proportion of 100% host response rates: {round(((df.host_response_rate == 100.0).sum()/df.host_response_rate.count())*100,1)}%\")\n"
      ],
      "execution_count": 17,
      "outputs": [
        {
          "output_type": "stream",
          "text": [
            "Mean host response rate: 93.0\n",
            "Median host response rate: 100.0\n",
            "Proportion of 100% host response rates: 65.6%\n"
          ],
          "name": "stdout"
        }
      ]
    },
    {
      "cell_type": "code",
      "metadata": {
        "id": "DMkoNmXfMWqV",
        "colab_type": "code",
        "outputId": "dd10b0c9-2b47-4b5d-8206-4a2640cf3abf",
        "colab": {
          "base_uri": "https://localhost:8080/",
          "height": 118
        }
      },
      "source": [
        "# Bin into four categories\n",
        "df.host_response_rate = pd.cut(df.host_response_rate, bins=[0, 50, 90, 99, 100], labels=['0-49%', '50-89%', '90-99%', '100%'], include_lowest=True)\n",
        "\n",
        "# Converting to string\n",
        "df.host_response_rate = df.host_response_rate.astype('str')\n",
        "\n",
        "# Replace nulls with 'unknown'\n",
        "df.host_response_rate.replace('nan', 'unknown', inplace=True)\n",
        "\n",
        "# Category counts\n",
        "df.host_response_rate.value_counts()"
      ],
      "execution_count": 18,
      "outputs": [
        {
          "output_type": "execute_result",
          "data": {
            "text/plain": [
              "100%       20961\n",
              "unknown    16416\n",
              "50-89%      5582\n",
              "90-99%      4033\n",
              "0-49%       1385\n",
              "Name: host_response_rate, dtype: int64"
            ]
          },
          "metadata": {
            "tags": []
          },
          "execution_count": 18
        }
      ]
    },
    {
      "cell_type": "code",
      "metadata": {
        "id": "PR2_gFnMBBm5",
        "colab_type": "code",
        "colab": {}
      },
      "source": [
        "df[df.columns[47:]] = df[df.columns[47:]].fillna(value=0)\n",
        "df_zero_new_amm=df.copy()"
      ],
      "execution_count": 0,
      "outputs": []
    },
    {
      "cell_type": "code",
      "metadata": {
        "id": "E3n6Olfs0lNk",
        "colab_type": "code",
        "colab": {}
      },
      "source": [
        "# df"
      ],
      "execution_count": 0,
      "outputs": []
    },
    {
      "cell_type": "markdown",
      "metadata": {
        "id": "OF7W6b0iYvdw",
        "colab_type": "text"
      },
      "source": [
        "Dropping the amenities which are skewd"
      ]
    },
    {
      "cell_type": "code",
      "metadata": {
        "id": "6ebTIl24BMAy",
        "colab_type": "code",
        "colab": {}
      },
      "source": [
        "col_name = ['Game console','bbq','nature_and_views','internet','smoking_allowed','pool','event_suitable','indoor_fireplace']\n",
        "df_zero_new_amm = df_zero_new_amm.drop(columns = col_name,axis = 1)\n",
        "df_new_final = df_zero_new_amm  \n",
        " "
      ],
      "execution_count": 0,
      "outputs": []
    },
    {
      "cell_type": "markdown",
      "metadata": {
        "id": "iavOh2XJY3ln",
        "colab_type": "text"
      },
      "source": [
        "Converting the string attrs into int"
      ]
    },
    {
      "cell_type": "code",
      "metadata": {
        "id": "rnvi94sfBePQ",
        "colab_type": "code",
        "colab": {}
      },
      "source": [
        "df_new_final.price = df_new_final.price.str[1:-3]\n",
        "df_new_final.price = df_new_final.price.str.replace(\",\", \"\")\n",
        "df_new_final.price = df_new_final.price.astype('int64')"
      ],
      "execution_count": 0,
      "outputs": []
    },
    {
      "cell_type": "code",
      "metadata": {
        "id": "EYUL4ADiBYk2",
        "colab_type": "code",
        "colab": {}
      },
      "source": [
        "df_new_final.security_deposit = df_new_final.security_deposit.str[1:-3]\n",
        "df_new_final.security_deposit = df_new_final.security_deposit.str.replace(\",\", \"\")\n",
        "df_new_final.security_deposit.fillna(0, inplace=True)"
      ],
      "execution_count": 0,
      "outputs": []
    },
    {
      "cell_type": "code",
      "metadata": {
        "id": "j9gbHwGeBa-x",
        "colab_type": "code",
        "colab": {}
      },
      "source": [
        "df_new_final.cleaning_fee = df_new_final.cleaning_fee.str[1:-3]\n",
        "df_new_final.cleaning_fee = df_new_final.cleaning_fee.str.replace(\",\", \"\")\n",
        "df_new_final.cleaning_fee.fillna(0, inplace=True)\n"
      ],
      "execution_count": 0,
      "outputs": []
    },
    {
      "cell_type": "code",
      "metadata": {
        "id": "cJB3vBjQH4ca",
        "colab_type": "code",
        "colab": {}
      },
      "source": [
        "df_new_final.extra_people = df_new_final.extra_people.str[1:-3]\n",
        "df_new_final.extra_people = df_new_final.extra_people.str.replace(\",\", \"\")\n",
        "df_new_final.extra_people = df_new_final.extra_people.astype('int64')"
      ],
      "execution_count": 0,
      "outputs": []
    },
    {
      "cell_type": "code",
      "metadata": {
        "id": "D4inbs4gYJYZ",
        "colab_type": "code",
        "colab": {}
      },
      "source": [
        "#df_new_final.host_response_rate = df_new_final.host_response_rate.str[0:-1]\n",
        "#df_new_final.host_response_rate = df_new_final.host_response_rate.str.replace('','0')\n",
        "\n",
        "#df_new_final.host_response_rate.fillna(0, inplace=True)\n",
        "# df_new_final['host_response_rate'] = df_new_final['host_response_rate'].astype(int)\n",
        "#df_new_final.host_response_rate = df_new_final.host_response_rate.astype('int64')\n",
        " "
      ],
      "execution_count": 0,
      "outputs": []
    },
    {
      "cell_type": "code",
      "metadata": {
        "id": "z9Mdm2qKBj6t",
        "colab_type": "code",
        "colab": {}
      },
      "source": [
        "col = ['beds','bathrooms', 'bedrooms']\n",
        "for c in col:\n",
        "  df_new_final[c].fillna(df_new_final[c].median(),inplace = True)"
      ],
      "execution_count": 0,
      "outputs": []
    },
    {
      "cell_type": "code",
      "metadata": {
        "id": "xH3ntzCYBoR_",
        "colab_type": "code",
        "colab": {}
      },
      "source": [
        "df_new_final.drop('bed_type', axis=1, inplace=True)\n",
        "df_new_final.drop('calendar_updated', axis=1, inplace=True)\n",
        "df_new_final.cancellation_policy.replace({\n",
        "    'super_strict_30': 'strict_14_with_grace_period',\n",
        "    'super_strict_60': 'strict_14_with_grace_period',\n",
        "    'strict': 'strict_14_with_grace_period',\n",
        "    'luxury_moderate': 'moderate'\n",
        "    }, inplace=True)\n",
        "df_new_final.drop(['number_of_reviews_ltm', 'reviews_per_month'], axis=1, inplace=True)"
      ],
      "execution_count": 0,
      "outputs": []
    },
    {
      "cell_type": "markdown",
      "metadata": {
        "id": "mMVNeRaRZLGf",
        "colab_type": "text"
      },
      "source": [
        "Binnig the property type"
      ]
    },
    {
      "cell_type": "code",
      "metadata": {
        "id": "3Kdi5XvqZLxW",
        "colab_type": "code",
        "colab": {}
      },
      "source": [
        "df_new_final.property_type.replace({\n",
        "    'Townhouse': 'House',\n",
        "    'Condominium': 'Apartment',\n",
        "    'Serviced apartment': 'Apartment',\n",
        "    'Loft': 'Apartment',\n",
        "    'Aparthotel': 'Apartment',\n",
        "    'Guest suite': 'Apartment',\n",
        "    'Bungalow': 'House',\n",
        "    'Cottage': 'House',\n",
        "    'Villa': 'House',\n",
        "    'Tiny house': 'House',\n",
        "    'Earth house': 'House' \n",
        "    }, inplace=True)\n",
        "\n",
        "# Replacing other categories with 'other'\n",
        "df_new_final.loc[~df_new_final.property_type.isin(['House', 'Apartment']), 'property_type'] = 'Other'\n"
      ],
      "execution_count": 0,
      "outputs": []
    },
    {
      "cell_type": "code",
      "metadata": {
        "id": "JZrEJk2cB25Q",
        "colab_type": "code",
        "colab": {}
      },
      "source": [
        "# df[['availability_30','availability_60','availability_90','availability_365']]\n",
        "# df.columns\n",
        "df_new_final.drop(['availability_30','availability_60','availability_90'], axis=1, inplace=True)"
      ],
      "execution_count": 0,
      "outputs": []
    },
    {
      "cell_type": "code",
      "metadata": {
        "id": "w5O03W8QB72O",
        "colab_type": "code",
        "colab": {}
      },
      "source": [
        "df_new_final.drop([ 'review_scores_accuracy',\n",
        "       'review_scores_cleanliness', 'review_scores_checkin',\n",
        "       'review_scores_communication', 'review_scores_location'], axis=1, inplace=True)"
      ],
      "execution_count": 0,
      "outputs": []
    },
    {
      "cell_type": "code",
      "metadata": {
        "id": "eDo5NuNMCX2z",
        "colab_type": "code",
        "colab": {}
      },
      "source": [
        "df_new_final.host_identity_verified = df_new_final['host_identity_verified'].replace('f',0)\n",
        "df_new_final.host_identity_verified = df_new_final['host_identity_verified'].replace('t',1)\n",
        "df_new_final.host_is_superhost = df_new_final['host_is_superhost'].replace('f',0)\n",
        "df_new_final.host_is_superhost = df_new_final['host_is_superhost'].replace('t',1)"
      ],
      "execution_count": 0,
      "outputs": []
    },
    {
      "cell_type": "code",
      "metadata": {
        "id": "PbvvaYl-W2V4",
        "colab_type": "code",
        "outputId": "9b1baf02-2063-409a-ce15-85e26b1f7bed",
        "colab": {
          "base_uri": "https://localhost:8080/",
          "height": 67
        }
      },
      "source": [
        "df_new_final.host_identity_verified.value_counts()"
      ],
      "execution_count": 32,
      "outputs": [
        {
          "output_type": "execute_result",
          "data": {
            "text/plain": [
              "0.0    25331\n",
              "1.0    23025\n",
              "Name: host_identity_verified, dtype: int64"
            ]
          },
          "metadata": {
            "tags": []
          },
          "execution_count": 32
        }
      ]
    },
    {
      "cell_type": "code",
      "metadata": {
        "id": "zwlAgxejCazz",
        "colab_type": "code",
        "colab": {}
      },
      "source": [
        "df_new_final['security_deposit'] = df_new_final['security_deposit'].astype(int)"
      ],
      "execution_count": 0,
      "outputs": []
    },
    {
      "cell_type": "code",
      "metadata": {
        "id": "KaCWg7_CCdMB",
        "colab_type": "code",
        "colab": {}
      },
      "source": [
        "df_new_final['cleaning_fee'] = df_new_final['cleaning_fee'].astype(int)"
      ],
      "execution_count": 0,
      "outputs": []
    },
    {
      "cell_type": "code",
      "metadata": {
        "id": "ridRSM3II6tp",
        "colab_type": "code",
        "colab": {}
      },
      "source": [
        "df_new_final.drop('amenities',axis=1,inplace=True)"
      ],
      "execution_count": 0,
      "outputs": []
    },
    {
      "cell_type": "markdown",
      "metadata": {
        "id": "FqIS8ZgzCOJO",
        "colab_type": "text"
      },
      "source": [
        "Removed columns whose more than 80% values are null"
      ]
    },
    {
      "cell_type": "code",
      "metadata": {
        "id": "1VjRb1G1C00U",
        "colab_type": "code",
        "colab": {}
      },
      "source": [
        "feature_removal_df = df_new_final.loc[:, df_new_final.isnull().mean() < .8]"
      ],
      "execution_count": 0,
      "outputs": []
    },
    {
      "cell_type": "code",
      "metadata": {
        "id": "ryILTTb7C33v",
        "colab_type": "code",
        "outputId": "76f4906d-dc54-4727-964e-e8e50849d357",
        "colab": {
          "base_uri": "https://localhost:8080/",
          "height": 34
        }
      },
      "source": [
        "len(feature_removal_df.columns)"
      ],
      "execution_count": 37,
      "outputs": [
        {
          "output_type": "execute_result",
          "data": {
            "text/plain": [
              "60"
            ]
          },
          "metadata": {
            "tags": []
          },
          "execution_count": 37
        }
      ]
    },
    {
      "cell_type": "code",
      "metadata": {
        "id": "IF4wYeJRDmBe",
        "colab_type": "code",
        "colab": {}
      },
      "source": [
        "#feature_df = df_new_final[['id', 'host_since','host_response_time','host_response_rate',\n",
        "#       'host_is_superhost', 'host_listings_count', 'host_identity_verified',\n",
        " #      'neighbourhood', 'neighbourhood_cleansed',\n",
        "  #     'neighbourhood_group_cleansed', 'market', 'smart_location', \n",
        "   #    'property_type', 'room_type', 'accommodates', 'bathrooms',\n",
        "    #   'bedrooms', 'beds', 'security_deposit',\n",
        "#       'cleaning_fee', 'guests_included', 'extra_people', 'minimum_nights',\n",
        " #      'maximum_nights', 'availability_365', 'number_of_reviews',\n",
        "  #     'review_scores_rating', 'review_scores_value', 'instant_bookable',\n",
        "   #    'cancellation_policy', 'host_days_active', 'check_in_24h',\n",
        "    #   'air_conditioning', 'balcony', 'bed_linen', 'breakfast', 'tv',\n",
        "#       'coffee_machine', 'cooking_basics', 'Smoked_detection', 'parking',\n",
        " #      'Bathroom_amenities', 'child_friendly', 'Laundry', 'elevator', 'gym',\n",
        "  #     'outdoor_space', 'host_greeting', 'long_term_stays', 'pets_allowed',\n",
        "   #    'private_entrance', 'secure', 'self_check_in', 'Heating', 'accessible',\n",
        "    #   'well_lit_entrance', 'essentials']]\n",
        "  "
      ],
      "execution_count": 0,
      "outputs": []
    },
    {
      "cell_type": "code",
      "metadata": {
        "id": "V_077L78DzcI",
        "colab_type": "code",
        "colab": {}
      },
      "source": [
        "feature_df = df_new_final.copy()"
      ],
      "execution_count": 0,
      "outputs": []
    },
    {
      "cell_type": "code",
      "metadata": {
        "id": "w6cu9IJ-2mTO",
        "colab_type": "code",
        "outputId": "a27b042d-b691-46af-862a-e2457796ddee",
        "colab": {
          "base_uri": "https://localhost:8080/",
          "height": 302
        }
      },
      "source": [
        "feature_df.columns"
      ],
      "execution_count": 39,
      "outputs": [
        {
          "output_type": "execute_result",
          "data": {
            "text/plain": [
              "Index(['id', 'host_since', 'host_response_time', 'host_response_rate',\n",
              "       'host_is_superhost', 'host_listings_count', 'host_identity_verified',\n",
              "       'neighbourhood', 'neighbourhood_cleansed',\n",
              "       'neighbourhood_group_cleansed', 'market', 'smart_location', 'latitude',\n",
              "       'longitude', 'property_type', 'room_type', 'accommodates', 'bathrooms',\n",
              "       'bedrooms', 'beds', 'price', 'security_deposit', 'cleaning_fee',\n",
              "       'guests_included', 'extra_people', 'minimum_nights', 'maximum_nights',\n",
              "       'availability_365', 'number_of_reviews', 'review_scores_rating',\n",
              "       'review_scores_value', 'instant_bookable', 'cancellation_policy',\n",
              "       'host_days_active', 'check_in_24h', 'air_conditioning', 'balcony',\n",
              "       'bed_linen', 'breakfast', 'tv', 'coffee_machine', 'cooking_basics',\n",
              "       'Smoked_detection', 'parking', 'Bathroom_amenities', 'child_friendly',\n",
              "       'Laundry', 'elevator', 'gym', 'outdoor_space', 'host_greeting',\n",
              "       'long_term_stays', 'pets_allowed', 'private_entrance', 'secure',\n",
              "       'self_check_in', 'Heating', 'accessible', 'well_lit_entrance',\n",
              "       'essentials'],\n",
              "      dtype='object')"
            ]
          },
          "metadata": {
            "tags": []
          },
          "execution_count": 39
        }
      ]
    },
    {
      "cell_type": "code",
      "metadata": {
        "id": "Z3Nba9KND1VJ",
        "colab_type": "code",
        "outputId": "d7f27df7-c3a1-4bd8-8284-39735ad5992a",
        "colab": {
          "base_uri": "https://localhost:8080/",
          "height": 402
        }
      },
      "source": [
        "target_df = df_new_final[['price']]\n",
        "target_df"
      ],
      "execution_count": 40,
      "outputs": [
        {
          "output_type": "execute_result",
          "data": {
            "text/html": [
              "<div>\n",
              "<style scoped>\n",
              "    .dataframe tbody tr th:only-of-type {\n",
              "        vertical-align: middle;\n",
              "    }\n",
              "\n",
              "    .dataframe tbody tr th {\n",
              "        vertical-align: top;\n",
              "    }\n",
              "\n",
              "    .dataframe thead th {\n",
              "        text-align: right;\n",
              "    }\n",
              "</style>\n",
              "<table border=\"1\" class=\"dataframe\">\n",
              "  <thead>\n",
              "    <tr style=\"text-align: right;\">\n",
              "      <th></th>\n",
              "      <th>price</th>\n",
              "    </tr>\n",
              "  </thead>\n",
              "  <tbody>\n",
              "    <tr>\n",
              "      <th>0</th>\n",
              "      <td>150</td>\n",
              "    </tr>\n",
              "    <tr>\n",
              "      <th>1</th>\n",
              "      <td>89</td>\n",
              "    </tr>\n",
              "    <tr>\n",
              "      <th>2</th>\n",
              "      <td>80</td>\n",
              "    </tr>\n",
              "    <tr>\n",
              "      <th>3</th>\n",
              "      <td>200</td>\n",
              "    </tr>\n",
              "    <tr>\n",
              "      <th>4</th>\n",
              "      <td>60</td>\n",
              "    </tr>\n",
              "    <tr>\n",
              "      <th>...</th>\n",
              "      <td>...</td>\n",
              "    </tr>\n",
              "    <tr>\n",
              "      <th>48372</th>\n",
              "      <td>199</td>\n",
              "    </tr>\n",
              "    <tr>\n",
              "      <th>48373</th>\n",
              "      <td>175</td>\n",
              "    </tr>\n",
              "    <tr>\n",
              "      <th>48374</th>\n",
              "      <td>35</td>\n",
              "    </tr>\n",
              "    <tr>\n",
              "      <th>48375</th>\n",
              "      <td>79</td>\n",
              "    </tr>\n",
              "    <tr>\n",
              "      <th>48376</th>\n",
              "      <td>45</td>\n",
              "    </tr>\n",
              "  </tbody>\n",
              "</table>\n",
              "<p>48377 rows × 1 columns</p>\n",
              "</div>"
            ],
            "text/plain": [
              "       price\n",
              "0        150\n",
              "1         89\n",
              "2         80\n",
              "3        200\n",
              "4         60\n",
              "...      ...\n",
              "48372    199\n",
              "48373    175\n",
              "48374     35\n",
              "48375     79\n",
              "48376     45\n",
              "\n",
              "[48377 rows x 1 columns]"
            ]
          },
          "metadata": {
            "tags": []
          },
          "execution_count": 40
        }
      ]
    },
    {
      "cell_type": "code",
      "metadata": {
        "id": "9_3D258BKKpk",
        "colab_type": "code",
        "colab": {}
      },
      "source": [
        "column = [\"neighbourhood\",\"smart_location\",\"neighbourhood_cleansed\",\"host_since\"]"
      ],
      "execution_count": 0,
      "outputs": []
    },
    {
      "cell_type": "code",
      "metadata": {
        "id": "7Kt9j4OqNS3d",
        "colab_type": "code",
        "colab": {}
      },
      "source": [
        "feature_df = feature_df.drop(columns = column, axis = 1)"
      ],
      "execution_count": 0,
      "outputs": []
    },
    {
      "cell_type": "code",
      "metadata": {
        "id": "kBWsS9pwaR-I",
        "colab_type": "code",
        "colab": {}
      },
      "source": [
        "feature_df = feature_df.drop(columns = \"market\", axis = 1)"
      ],
      "execution_count": 0,
      "outputs": []
    },
    {
      "cell_type": "code",
      "metadata": {
        "id": "p04XtVpUcrRD",
        "colab_type": "code",
        "outputId": "05a3657c-fffc-411b-8857-ca8ad1a985dc",
        "colab": {
          "base_uri": "https://localhost:8080/",
          "height": 101
        }
      },
      "source": [
        "feature_df['review_scores_value'].value_counts()"
      ],
      "execution_count": 44,
      "outputs": [
        {
          "output_type": "execute_result",
          "data": {
            "text/plain": [
              "10/10     21048\n",
              "9/10      12921\n",
              "nan       10618\n",
              "0-8/10     3790\n",
              "Name: review_scores_value, dtype: int64"
            ]
          },
          "metadata": {
            "tags": []
          },
          "execution_count": 44
        }
      ]
    },
    {
      "cell_type": "markdown",
      "metadata": {
        "id": "HbztJ5XQGk5_",
        "colab_type": "text"
      },
      "source": [
        "One hot encoding for categorical attributes\n"
      ]
    },
    {
      "cell_type": "code",
      "metadata": {
        "id": "cs3U13UPP88p",
        "colab_type": "code",
        "colab": {}
      },
      "source": [
        "transformed_df = pd.get_dummies(feature_df)"
      ],
      "execution_count": 0,
      "outputs": []
    },
    {
      "cell_type": "code",
      "metadata": {
        "id": "cLIhwAnk5KbH",
        "colab_type": "code",
        "colab": {}
      },
      "source": [
        "# transformed_df.columns"
      ],
      "execution_count": 0,
      "outputs": []
    },
    {
      "cell_type": "code",
      "metadata": {
        "id": "GQ_GAgFoQTg_",
        "colab_type": "code",
        "colab": {}
      },
      "source": [
        "# transformed_df.shape"
      ],
      "execution_count": 0,
      "outputs": []
    },
    {
      "cell_type": "code",
      "metadata": {
        "id": "Dfyc4sR_HTl8",
        "colab_type": "code",
        "outputId": "1cbf28a9-04ff-4bee-8684-ad0367b96c2f",
        "colab": {
          "base_uri": "https://localhost:8080/",
          "height": 1000
        }
      },
      "source": [
        "import seaborn as sns\n",
        "import matplotlib.pyplot as plt\n",
        "correlation = transformed_df.corr()\n",
        "plt.figure(figsize=(20,20))\n",
        "heatmap = sns.heatmap(correlation, annot=False, linewidths=0, vmin=-0.75, vmax=0.75, cmap=\"RdBu_r\")"
      ],
      "execution_count": 48,
      "outputs": [
        {
          "output_type": "display_data",
          "data": {
            "image/png": "[encoded data removed]",
            "text/plain": [
              "<Figure size 1440x1440 with 2 Axes>"
            ]
          },
          "metadata": {
            "tags": []
          }
        }
      ]
    },
    {
      "cell_type": "code",
      "metadata": {
        "id": "Awa_ang2I8aE",
        "colab_type": "code",
        "colab": {}
      },
      "source": [
        "correlated_features = set()\n",
        "correlation_matrix = transformed_df.drop('price', axis=1).corr()\n",
        "\n",
        "for i in range(len(correlation_matrix.columns)):\n",
        "    for j in range(i):\n",
        "        if abs(correlation_matrix.iloc[i, j]) > 0.75:\n",
        "            colname = correlation_matrix.columns[i]\n",
        "            correlated_features.add(colname)"
      ],
      "execution_count": 0,
      "outputs": []
    },
    {
      "cell_type": "code",
      "metadata": {
        "id": "Zw422oj9JAQ9",
        "colab_type": "code",
        "colab": {}
      },
      "source": [
        "# correlated_features"
      ],
      "execution_count": 0,
      "outputs": []
    },
    {
      "cell_type": "code",
      "metadata": {
        "id": "Xr7uBWISBng7",
        "colab_type": "code",
        "colab": {}
      },
      "source": [
        "# Dropping collinear features\n",
        "to_drop=[]\n",
        "# to_drop = ['beds',\n",
        "#            'bedrooms',\n",
        "#            'guests_included', \n",
        "#            'host_response_rate_unknown',\n",
        "#            'host_response_rate_0-49%',\n",
        "#            'host_response_time_unknown',\n",
        "#            'property_type_Apartment',\n",
        "#            'room_type_Private room'] \n",
        "# to_drop.extend(['latitude','longitude','beds','coffee_machine'])\n",
        "# to_drop.extend(list(correlated_features))\n",
        "# to_drop.extend(list(transformed_df.columns[transformed_df.columns.str.endswith('nan')]))\n",
        "\n",
        "transformed_df.drop(to_drop, axis=1, inplace=True)\n",
        "saved_transformed_df=transformed_df.copy()"
      ],
      "execution_count": 0,
      "outputs": []
    },
    {
      "cell_type": "code",
      "metadata": {
        "id": "hhaCjzSTvMG-",
        "colab_type": "code",
        "colab": {}
      },
      "source": [
        "# saved_transformed_df=transformed_df.copy()"
      ],
      "execution_count": 0,
      "outputs": []
    },
    {
      "cell_type": "code",
      "metadata": {
        "id": "Z6XVUYaJvPG5",
        "colab_type": "code",
        "colab": {}
      },
      "source": [
        "# transformed_df=saved_transformed_df.copy()"
      ],
      "execution_count": 0,
      "outputs": []
    },
    {
      "cell_type": "code",
      "metadata": {
        "id": "omr6Gs4-11tH",
        "colab_type": "code",
        "colab": {}
      },
      "source": [
        "#transformed_df = transformed_df.drop('id', axis=1, inplace=True)\n",
        "transformed_df=transformed_df[transformed_df['price'] < 500]"
      ],
      "execution_count": 0,
      "outputs": []
    },
    {
      "cell_type": "code",
      "metadata": {
        "id": "niVPeWwCyOHY",
        "colab_type": "code",
        "colab": {}
      },
      "source": [
        "import sklearn\n",
        "from sklearn import preprocessing\n",
        "from sklearn import metrics\n",
        "from sklearn.metrics import r2_score, mean_absolute_error\n",
        "from sklearn.preprocessing import StandardScaler\n",
        "#from sklearn.preprocessing import LabelEncoder,OneHotEncoder\n",
        "from sklearn.model_selection import train_test_split, KFold,cross_val_score\n",
        "from sklearn.linear_model import LinearRegression,LogisticRegression"
      ],
      "execution_count": 0,
      "outputs": []
    },
    {
      "cell_type": "code",
      "metadata": {
        "id": "x7f3BXd8yOev",
        "colab_type": "code",
        "colab": {}
      },
      "source": [
        "X = transformed_df.drop(['price','id'],axis = 1)\n",
        "y = transformed_df.price"
      ],
      "execution_count": 0,
      "outputs": []
    },
    {
      "cell_type": "code",
      "metadata": {
        "id": "aF2BQQpJ7d8d",
        "colab_type": "code",
        "colab": {}
      },
      "source": [
        "# y=y.astype('float64').replace(0, 0.01)\n",
        "# y=np.log(y)"
      ],
      "execution_count": 0,
      "outputs": []
    },
    {
      "cell_type": "code",
      "metadata": {
        "id": "TH8naT_ZCWU0",
        "colab_type": "code",
        "colab": {}
      },
      "source": [
        "X['host_listings_count'].fillna((X['host_listings_count'].median()), inplace=True)\n",
        "X[['host_is_superhost','host_identity_verified']] = X[['host_is_superhost','host_identity_verified']].fillna(0)"
      ],
      "execution_count": 0,
      "outputs": []
    },
    {
      "cell_type": "code",
      "metadata": {
        "id": "1FseFZMKyObx",
        "colab_type": "code",
        "outputId": "a53fa0cd-5c03-47e3-abcf-de5368e1c62f",
        "colab": {
          "base_uri": "https://localhost:8080/",
          "height": 34
        }
      },
      "source": [
        "lm = LinearRegression()\n",
        "\n",
        "#X = transformed_df\n",
        "#y = target_df\n",
        "\n",
        "X_train, X_test, y_train, y_test = train_test_split(X, y, test_size=0.2, random_state=123)\n",
        "\n",
        "lm.fit(X_train,y_train)"
      ],
      "execution_count": 59,
      "outputs": [
        {
          "output_type": "execute_result",
          "data": {
            "text/plain": [
              "LinearRegression(copy_X=True, fit_intercept=True, n_jobs=None, normalize=False)"
            ]
          },
          "metadata": {
            "tags": []
          },
          "execution_count": 59
        }
      ]
    },
    {
      "cell_type": "code",
      "metadata": {
        "id": "PnG5FSCnHYJr",
        "colab_type": "code",
        "colab": {}
      },
      "source": [
        "# y_test"
      ],
      "execution_count": 0,
      "outputs": []
    },
    {
      "cell_type": "code",
      "metadata": {
        "id": "ER8REaPd8_H8",
        "colab_type": "code",
        "colab": {}
      },
      "source": [
        "X.columns[X.isna().any()].tolist()\n",
        "X.loc[:, X.isna().any()]\n",
        "\n",
        "X['host_listings_count'].fillna((X['host_listings_count'].median()), inplace=True)"
      ],
      "execution_count": 0,
      "outputs": []
    },
    {
      "cell_type": "code",
      "metadata": {
        "id": "NG9-pOjPyOFh",
        "colab_type": "code",
        "outputId": "b0daac26-1c5d-4ba3-9923-98fa3f8fc292",
        "colab": {
          "base_uri": "https://localhost:8080/",
          "height": 101
        }
      },
      "source": [
        "'''Get Predictions & Print Metrics'''\n",
        "predicts = lm.predict(X_test)\n",
        "\n",
        "print(\"\"\"\n",
        "        Root Mean Squared Error: {}\n",
        "        R2 Score: {}\n",
        "        Mean Absolute Error: {}\n",
        "     \"\"\".format(\n",
        "        np.sqrt(metrics.mean_squared_error(y_test, predicts)),\n",
        "        r2_score(y_test,predicts) * 100,\n",
        "        mean_absolute_error(y_test,predicts)\n",
        "        ))"
      ],
      "execution_count": 62,
      "outputs": [
        {
          "output_type": "stream",
          "text": [
            "\n",
            "        Root Mean Squared Error: 55.32608221829119\n",
            "        R2 Score: 57.91173911020528\n",
            "        Mean Absolute Error: 38.47123977815358\n",
            "     \n"
          ],
          "name": "stdout"
        }
      ]
    },
    {
      "cell_type": "code",
      "metadata": {
        "id": "lyZmWcC94gzt",
        "colab_type": "code",
        "colab": {}
      },
      "source": [
        "df_lmmodel = pd.DataFrame({'Linear Regression Predicted':predicts})"
      ],
      "execution_count": 0,
      "outputs": []
    },
    {
      "cell_type": "code",
      "metadata": {
        "id": "MIbjGC1oIaVs",
        "colab_type": "code",
        "colab": {}
      },
      "source": [
        "# df_mine"
      ],
      "execution_count": 0,
      "outputs": []
    },
    {
      "cell_type": "code",
      "metadata": {
        "id": "WzhjcfxuaatH",
        "colab_type": "code",
        "colab": {}
      },
      "source": [
        ""
      ],
      "execution_count": 0,
      "outputs": []
    },
    {
      "cell_type": "code",
      "metadata": {
        "id": "tCCIG7tgc6mS",
        "colab_type": "code",
        "colab": {}
      },
      "source": [
        "# from sklearn.svm import SVR\n",
        "# regressor = SVR(kernel='rbf')\n",
        "# regressor.fit(X_train,y_train)\n",
        "# y_pred = regressor.predict(X_test)"
      ],
      "execution_count": 0,
      "outputs": []
    },
    {
      "cell_type": "code",
      "metadata": {
        "id": "mGoGeQoMyN9_",
        "colab_type": "code",
        "colab": {}
      },
      "source": [
        "# linear_predictions = pd.DataFrame({'Actual':y_test})\n",
        "# linear_predictions = linear_predictions.reset_index(drop=True)\n",
        "# linear_predictions"
      ],
      "execution_count": 0,
      "outputs": []
    },
    {
      "cell_type": "code",
      "metadata": {
        "id": "EeYXM_IDOb0e",
        "colab_type": "code",
        "colab": {}
      },
      "source": [
        "# df_log_Comparison = pd.DataFrame({'Actual':np.exp(linear_predictions['Actual']),'Initial Model Predicted':np.exp(df_lmmodel['Linear Regression Predicted'])})\n",
        "# df_log_Comparison"
      ],
      "execution_count": 0,
      "outputs": []
    },
    {
      "cell_type": "code",
      "metadata": {
        "id": "UJG3ElRxOzQY",
        "colab_type": "code",
        "colab": {}
      },
      "source": [
        "# antilog_y_test=np.exp(y_test)\n",
        "# antilog_predict=np.exp(predicts)\n",
        "# print(\"\"\"\n",
        "#         Root Mean Squared Error: {}\n",
        "#         R2 Score: {}\n",
        "#         Mean Absolute Error: {}\n",
        "#      \"\"\".format(\n",
        "#         np.sqrt(metrics.mean_squared_error(antilog_y_test, antilog_predict)),\n",
        "#         r2_score(antilog_y_test, antilog_predict) * 100,\n",
        "#         mean_absolute_error(antilog_y_test, antilog_predict)\n",
        "#         ))\n",
        "\n",
        "\n",
        "        # Root Mean Squared Error: 57.05670832744262\n",
        "        # R2 Score: 55.23747214044437\n",
        "        # Mean Absolute Error: 37.24604003003832\n"
      ],
      "execution_count": 0,
      "outputs": []
    },
    {
      "cell_type": "markdown",
      "metadata": {
        "id": "hCTcBsB5KoBN",
        "colab_type": "text"
      },
      "source": [
        "Standadizing and normailizing"
      ]
    },
    {
      "cell_type": "code",
      "metadata": {
        "id": "vHyYwcm4KnQK",
        "colab_type": "code",
        "colab": {}
      },
      "source": [
        "numerical_columns = ['accommodates', 'bathrooms', 'host_listings_count','cleaning_fee', 'extra_people', 'host_days_active', 'maximum_nights', 'minimum_nights', 'number_of_reviews', 'price', 'security_deposit']"
      ],
      "execution_count": 0,
      "outputs": []
    },
    {
      "cell_type": "code",
      "metadata": {
        "id": "28vPmBm-NDTh",
        "colab_type": "code",
        "outputId": "ad87c608-cb16-42a0-9faa-ffc79903c4ff",
        "colab": {
          "base_uri": "https://localhost:8080/",
          "height": 662
        }
      },
      "source": [
        "transformed_df[numerical_columns].hist(figsize=(10,11));"
      ],
      "execution_count": 69,
      "outputs": [
        {
          "output_type": "display_data",
          "data": {
            "image/png": "[encoded data removed]",
            "text/plain": [
              "<Figure size 720x792 with 12 Axes>"
            ]
          },
          "metadata": {
            "tags": []
          }
        }
      ]
    },
    {
      "cell_type": "code",
      "metadata": {
        "id": "Y-4bUeuXNJc-",
        "colab_type": "code",
        "colab": {}
      },
      "source": [
        "# Log transforming columns\n",
        "numerical_columns = [i for i in numerical_columns if i not in ['host_days_active']] # Removing items not to be transformed\n",
        "\n",
        "for col in numerical_columns:\n",
        "    transformed_df[col] = transformed_df[col].astype('float64').replace(0.0, 0.01) # Replacing 0s with 0.01\n",
        "    transformed_df[col] = np.log(transformed_df[col])"
      ],
      "execution_count": 0,
      "outputs": []
    },
    {
      "cell_type": "code",
      "metadata": {
        "id": "4QS6yIZoNNd3",
        "colab_type": "code",
        "colab": {}
      },
      "source": [
        "# transformed_df[numerical_columns].hist(figsize=(10,11));"
      ],
      "execution_count": 0,
      "outputs": []
    },
    {
      "cell_type": "code",
      "metadata": {
        "id": "0fJUh8fP669M",
        "colab_type": "code",
        "colab": {}
      },
      "source": [
        "from sklearn.linear_model import Ridge\n",
        "from sklearn.model_selection import GridSearchCV\n",
        "from sklearn.metrics import mean_absolute_error\n",
        "from sklearn.metrics import mean_squared_error\n",
        "from sklearn.metrics import r2_score"
      ],
      "execution_count": 0,
      "outputs": []
    },
    {
      "cell_type": "code",
      "metadata": {
        "id": "V8vKJJ1cSpZ3",
        "colab_type": "code",
        "colab": {}
      },
      "source": [
        "# def ridge_reg(input_x, input_y, cv=5):\n",
        "#     ## Defining parameters\n",
        "#     model_Ridge= Ridge()\n",
        "\n",
        "#     # prepare a range of alpha values to test\n",
        "#     alphas = np.array([1,0.1,0.01,0.001,0.0001,0])\n",
        "#     normalizes= ([True,False])\n",
        "\n",
        "#     ## Building Grid Search algorithm with cross-validation and Mean Squared Error score.\n",
        "\n",
        "#     grid_search_Ridge = GridSearchCV(estimator=model_Ridge,  \n",
        "#                          param_grid=(dict(alpha=alphas, normalize= normalizes)),\n",
        "#                          scoring='neg_mean_squared_error',\n",
        "#                          cv=cv,\n",
        "#                          n_jobs=-1)\n",
        "\n",
        "#     ## Lastly, finding the best parameters.\n",
        "\n",
        "#     grid_search_Ridge.fit(input_x,input_y)\n",
        "#     best_parameters_Ridge = grid_search_Ridge.best_params_  \n",
        "#     best_score_Ridge = grid_search_Ridge.best_score_ \n",
        "#     print(best_parameters_Ridge)\n",
        "#     print(best_score_Ridge)\n",
        "\n",
        "# ridge_reg(X_train, y_train)\n"
      ],
      "execution_count": 0,
      "outputs": []
    },
    {
      "cell_type": "code",
      "metadata": {
        "id": "14dMAeav7a4-",
        "colab_type": "code",
        "colab": {}
      },
      "source": [
        "# ridge_x = Ridge(alpha = 0.01, normalize = True)\n",
        "# ridge_x.fit(X_train, y_train)  \n",
        "# pred_ridge = ridge_x.predict(X_test) \n",
        "# print('MAE: %f'% mean_absolute_error(y_test, pred_ridge))\n",
        "# print('RMSE: %f'% np.sqrt(mean_squared_error(y_test, pred_ridge)))   \n",
        "# print('R2 %f' % r2_score(y_test, pred_ridge))\n"
      ],
      "execution_count": 0,
      "outputs": []
    },
    {
      "cell_type": "code",
      "metadata": {
        "id": "DEFxEP4j-Ebq",
        "colab_type": "code",
        "colab": {}
      },
      "source": [
        "from sklearn.linear_model import Lasso"
      ],
      "execution_count": 0,
      "outputs": []
    },
    {
      "cell_type": "code",
      "metadata": {
        "id": "DFg-BjmmDqQk",
        "colab_type": "code",
        "colab": {}
      },
      "source": [
        "# def lasso_reg(input_x, input_y, cv=5):\n",
        "#     ## Defining parameters\n",
        "#     model_Lasso= Lasso()\n",
        "\n",
        "#     # prepare a range of alpha values to test\n",
        "#     alphas = np.array([1,0.1,0.01,0.001,0.0001,0])\n",
        "#     normalizes= ([True,False])\n",
        "\n",
        "#     ## Building Grid Search algorithm with cross-validation and Mean Squared Error score.\n",
        "\n",
        "#     grid_search_lasso = GridSearchCV(estimator=model_Lasso,  \n",
        "#                          param_grid=(dict(alpha=alphas, normalize= normalizes)),\n",
        "#                          scoring='neg_mean_squared_error',\n",
        "#                          cv=cv,\n",
        "#                          n_jobs=-1)\n",
        "\n",
        "#     ## Lastly, finding the best parameters.\n",
        "\n",
        "#     grid_search_lasso.fit(input_x, input_y)\n",
        "#     best_parameters_lasso = grid_search_lasso.best_params_  \n",
        "#     best_score_lasso = grid_search_lasso.best_score_ \n",
        "#     print(best_parameters_lasso)\n",
        "#     print(best_score_lasso)\n",
        "\n",
        "# lasso_reg(X_train, y_train)"
      ],
      "execution_count": 0,
      "outputs": []
    },
    {
      "cell_type": "code",
      "metadata": {
        "id": "TMwIVLyq-TKG",
        "colab_type": "code",
        "colab": {}
      },
      "source": [
        "# Lasso_x = Lasso(alpha = 0.001, normalize =True)\n",
        "# Lasso_x.fit(X_train, y_train)\n",
        "# pred_Lasso = Lasso_x.predict(X_test) \n",
        "# print('MAE: %f' % mean_absolute_error(y_test, pred_Lasso))\n",
        "# print('RMSE: %f' % np.sqrt(mean_squared_error(y_test, pred_Lasso)))\n",
        "# print('R2 %f' % r2_score(y_test, pred_Lasso))"
      ],
      "execution_count": 0,
      "outputs": []
    },
    {
      "cell_type": "code",
      "metadata": {
        "id": "AxjhRQd_yaSd",
        "colab_type": "code",
        "colab": {}
      },
      "source": [
        ""
      ],
      "execution_count": 0,
      "outputs": []
    },
    {
      "cell_type": "code",
      "metadata": {
        "id": "IXk21Fsqy0wF",
        "colab_type": "code",
        "colab": {}
      },
      "source": [
        "\n"
      ],
      "execution_count": 0,
      "outputs": []
    },
    {
      "cell_type": "markdown",
      "metadata": {
        "id": "V0M-XAJDE3dx",
        "colab_type": "text"
      },
      "source": [
        "Random Forest Regressor"
      ]
    },
    {
      "cell_type": "code",
      "metadata": {
        "id": "GVjpbmRuGlOv",
        "colab_type": "code",
        "colab": {}
      },
      "source": [
        "from sklearn.ensemble import RandomForestRegressor, GradientBoostingRegressor"
      ],
      "execution_count": 0,
      "outputs": []
    },
    {
      "cell_type": "code",
      "metadata": {
        "id": "LXDycdQ7GiX1",
        "colab_type": "code",
        "colab": {}
      },
      "source": [
        "# n_folds = 5\n",
        "# def rmse_cv(model):\n",
        "#     kf = KFold(n_folds, shuffle=True, random_state = 91).get_n_splits(transformed_df)\n",
        "#     return cross_val_score(model, X_train, y_train, scoring='neg_mean_squared_error', cv=kf)\n",
        "\n",
        "# def rmse_lv_cv(model):\n",
        "#     kf = KFold(n_folds, shuffle=True, random_state = 91).get_n_splits(transformed_df)\n",
        "#     return cross_val_score(model, Xlv_train, y_train, scoring='neg_mean_squared_error', cv=kf)"
      ],
      "execution_count": 0,
      "outputs": []
    },
    {
      "cell_type": "code",
      "metadata": {
        "id": "vySosaCsE6l0",
        "colab_type": "code",
        "colab": {}
      },
      "source": [
        "# rfr_CV_baseline = -rmse_cv(RandomForestRegressor(random_state=42))\n",
        "# rfr_baseline = RandomForestRegressor(random_state=42)\n",
        "# rfr_baseline.fit(X_train, y_train) \n",
        "# y_train_rfr = rfr_baseline.predict(X_train)\n",
        "# y_test_rfr = rfr_baseline.predict(X_test)\n",
        "# rfr_baseline_results = pd.DataFrame({'algorithm':['Random Forest Regressor [baseline]'],\n",
        "#             'CV error': rfr_CV_baseline.mean(), \n",
        "#             'CV std': rfr_CV_baseline.std(),\n",
        "#             'training error': [mean_squared_error(y_train_rfr, y_train)],\n",
        "#             'test error': [mean_squared_error(y_test_rfr, y_test)]})"
      ],
      "execution_count": 0,
      "outputs": []
    },
    {
      "cell_type": "code",
      "metadata": {
        "id": "Om_KP26c0w3j",
        "colab_type": "code",
        "colab": {}
      },
      "source": [
        "# RF_predictor = pd.DataFrame({'Random Forest Regressor Predictions':y_test_rfr})\n",
        "# df_RF_Comparison = pd.DataFrame({'Actual':y_test,'Random Forest Regressor Predictions':y_test_rfr})\n",
        "# df_RF_Comparison"
      ],
      "execution_count": 0,
      "outputs": []
    },
    {
      "cell_type": "markdown",
      "metadata": {
        "id": "eTx55Dkk4w71",
        "colab_type": "text"
      },
      "source": [
        "random_state = "
      ]
    },
    {
      "cell_type": "code",
      "metadata": {
        "id": "qnzoWsf5FmCm",
        "colab_type": "code",
        "colab": {}
      },
      "source": [
        ""
      ],
      "execution_count": 0,
      "outputs": []
    },
    {
      "cell_type": "code",
      "metadata": {
        "id": "9tQlq9yZPRAk",
        "colab_type": "code",
        "outputId": "1ec1649e-db47-4a01-be96-223559abecfd",
        "colab": {
          "base_uri": "https://localhost:8080/",
          "height": 302
        }
      },
      "source": [
        "feature_removal_df.columns"
      ],
      "execution_count": 80,
      "outputs": [
        {
          "output_type": "execute_result",
          "data": {
            "text/plain": [
              "Index(['id', 'host_since', 'host_response_time', 'host_response_rate',\n",
              "       'host_is_superhost', 'host_listings_count', 'host_identity_verified',\n",
              "       'neighbourhood', 'neighbourhood_cleansed',\n",
              "       'neighbourhood_group_cleansed', 'market', 'smart_location', 'latitude',\n",
              "       'longitude', 'property_type', 'room_type', 'accommodates', 'bathrooms',\n",
              "       'bedrooms', 'beds', 'price', 'security_deposit', 'cleaning_fee',\n",
              "       'guests_included', 'extra_people', 'minimum_nights', 'maximum_nights',\n",
              "       'availability_365', 'number_of_reviews', 'review_scores_rating',\n",
              "       'review_scores_value', 'instant_bookable', 'cancellation_policy',\n",
              "       'host_days_active', 'check_in_24h', 'air_conditioning', 'balcony',\n",
              "       'bed_linen', 'breakfast', 'tv', 'coffee_machine', 'cooking_basics',\n",
              "       'Smoked_detection', 'parking', 'Bathroom_amenities', 'child_friendly',\n",
              "       'Laundry', 'elevator', 'gym', 'outdoor_space', 'host_greeting',\n",
              "       'long_term_stays', 'pets_allowed', 'private_entrance', 'secure',\n",
              "       'self_check_in', 'Heating', 'accessible', 'well_lit_entrance',\n",
              "       'essentials'],\n",
              "      dtype='object')"
            ]
          },
          "metadata": {
            "tags": []
          },
          "execution_count": 80
        }
      ]
    },
    {
      "cell_type": "code",
      "metadata": {
        "id": "QSv8BV46JWff",
        "colab_type": "code",
        "colab": {}
      },
      "source": [
        "feature_removal_df\n",
        "from sklearn.feature_selection import SelectKBest\n",
        "from sklearn.feature_selection import chi2\n",
        "columns_new = ['id', 'host_response_rate',\n",
        "       'host_is_superhost', 'host_listings_count', 'host_identity_verified',\n",
        "       'neighbourhood_cleansed',\n",
        "       'neighbourhood_group_cleansed', 'smart_location',\n",
        "       'property_type', 'room_type', 'accommodates', 'bathrooms',\n",
        "       'bedrooms', 'beds', 'security_deposit', 'cleaning_fee',\n",
        "       'guests_included', 'extra_people', 'minimum_nights', 'maximum_nights',\n",
        "       'availability_365', 'number_of_reviews', 'review_scores_rating',\n",
        "       'review_scores_value', 'instant_bookable', 'cancellation_policy',\n",
        "       'check_in_24h', 'air_conditioning', 'balcony',\n",
        "       'bed_linen', 'breakfast', 'tv', 'coffee_machine', 'cooking_basics',\n",
        "       'Smoked_detection', 'parking', 'Bathroom_amenities', 'child_friendly',\n",
        "       'Laundry', 'elevator', 'gym', 'outdoor_space', 'host_greeting',\n",
        "       'long_term_stays', 'pets_allowed', 'private_entrance', 'secure',\n",
        "       'self_check_in', 'Heating', 'accessible', 'well_lit_entrance',\n",
        "       'essentials']\n",
        "X = feature_removal_df[columns_new]  #independent columns\n",
        "y = feature_removal_df['price']    #target column i.e price range\n"
      ],
      "execution_count": 0,
      "outputs": []
    },
    {
      "cell_type": "code",
      "metadata": {
        "id": "NYNAQO3lPrAr",
        "colab_type": "code",
        "outputId": "9740f76b-7a86-440d-f6e7-f520f76c3971",
        "colab": {
          "base_uri": "https://localhost:8080/",
          "height": 590
        }
      },
      "source": [
        "X"
      ],
      "execution_count": 82,
      "outputs": [
        {
          "output_type": "execute_result",
          "data": {
            "text/html": [
              "<div>\n",
              "<style scoped>\n",
              "    .dataframe tbody tr th:only-of-type {\n",
              "        vertical-align: middle;\n",
              "    }\n",
              "\n",
              "    .dataframe tbody tr th {\n",
              "        vertical-align: top;\n",
              "    }\n",
              "\n",
              "    .dataframe thead th {\n",
              "        text-align: right;\n",
              "    }\n",
              "</style>\n",
              "<table border=\"1\" class=\"dataframe\">\n",
              "  <thead>\n",
              "    <tr style=\"text-align: right;\">\n",
              "      <th></th>\n",
              "      <th>id</th>\n",
              "      <th>host_response_rate</th>\n",
              "      <th>host_is_superhost</th>\n",
              "      <th>host_listings_count</th>\n",
              "      <th>host_identity_verified</th>\n",
              "      <th>neighbourhood_cleansed</th>\n",
              "      <th>neighbourhood_group_cleansed</th>\n",
              "      <th>smart_location</th>\n",
              "      <th>property_type</th>\n",
              "      <th>room_type</th>\n",
              "      <th>accommodates</th>\n",
              "      <th>bathrooms</th>\n",
              "      <th>bedrooms</th>\n",
              "      <th>beds</th>\n",
              "      <th>security_deposit</th>\n",
              "      <th>cleaning_fee</th>\n",
              "      <th>guests_included</th>\n",
              "      <th>extra_people</th>\n",
              "      <th>minimum_nights</th>\n",
              "      <th>maximum_nights</th>\n",
              "      <th>availability_365</th>\n",
              "      <th>number_of_reviews</th>\n",
              "      <th>review_scores_rating</th>\n",
              "      <th>review_scores_value</th>\n",
              "      <th>instant_bookable</th>\n",
              "      <th>cancellation_policy</th>\n",
              "      <th>check_in_24h</th>\n",
              "      <th>air_conditioning</th>\n",
              "      <th>balcony</th>\n",
              "      <th>bed_linen</th>\n",
              "      <th>breakfast</th>\n",
              "      <th>tv</th>\n",
              "      <th>coffee_machine</th>\n",
              "      <th>cooking_basics</th>\n",
              "      <th>Smoked_detection</th>\n",
              "      <th>parking</th>\n",
              "      <th>Bathroom_amenities</th>\n",
              "      <th>child_friendly</th>\n",
              "      <th>Laundry</th>\n",
              "      <th>elevator</th>\n",
              "      <th>gym</th>\n",
              "      <th>outdoor_space</th>\n",
              "      <th>host_greeting</th>\n",
              "      <th>long_term_stays</th>\n",
              "      <th>pets_allowed</th>\n",
              "      <th>private_entrance</th>\n",
              "      <th>secure</th>\n",
              "      <th>self_check_in</th>\n",
              "      <th>Heating</th>\n",
              "      <th>accessible</th>\n",
              "      <th>well_lit_entrance</th>\n",
              "      <th>essentials</th>\n",
              "    </tr>\n",
              "  </thead>\n",
              "  <tbody>\n",
              "    <tr>\n",
              "      <th>0</th>\n",
              "      <td>3647</td>\n",
              "      <td>0-49%</td>\n",
              "      <td>0.0</td>\n",
              "      <td>1.0</td>\n",
              "      <td>1.0</td>\n",
              "      <td>Harlem</td>\n",
              "      <td>Manhattan</td>\n",
              "      <td>New York, NY</td>\n",
              "      <td>Apartment</td>\n",
              "      <td>Private room</td>\n",
              "      <td>2</td>\n",
              "      <td>1.0</td>\n",
              "      <td>1.0</td>\n",
              "      <td>1.0</td>\n",
              "      <td>200</td>\n",
              "      <td>75</td>\n",
              "      <td>2</td>\n",
              "      <td>20</td>\n",
              "      <td>3</td>\n",
              "      <td>7</td>\n",
              "      <td>365</td>\n",
              "      <td>0</td>\n",
              "      <td>nan</td>\n",
              "      <td>nan</td>\n",
              "      <td>f</td>\n",
              "      <td>strict_14_with_grace_period</td>\n",
              "      <td>0.0</td>\n",
              "      <td>1.0</td>\n",
              "      <td>0.0</td>\n",
              "      <td>0.0</td>\n",
              "      <td>0.0</td>\n",
              "      <td>1.0</td>\n",
              "      <td>0.0</td>\n",
              "      <td>1.0</td>\n",
              "      <td>1.0</td>\n",
              "      <td>0.0</td>\n",
              "      <td>0.0</td>\n",
              "      <td>0.0</td>\n",
              "      <td>0.0</td>\n",
              "      <td>0.0</td>\n",
              "      <td>0.0</td>\n",
              "      <td>0.0</td>\n",
              "      <td>0.0</td>\n",
              "      <td>0.0</td>\n",
              "      <td>0.0</td>\n",
              "      <td>0.0</td>\n",
              "      <td>1.0</td>\n",
              "      <td>0.0</td>\n",
              "      <td>1.0</td>\n",
              "      <td>0.0</td>\n",
              "      <td>0.0</td>\n",
              "      <td>0.0</td>\n",
              "    </tr>\n",
              "    <tr>\n",
              "      <th>1</th>\n",
              "      <td>3831</td>\n",
              "      <td>90-99%</td>\n",
              "      <td>0.0</td>\n",
              "      <td>1.0</td>\n",
              "      <td>1.0</td>\n",
              "      <td>Clinton Hill</td>\n",
              "      <td>Brooklyn</td>\n",
              "      <td>Brooklyn, NY</td>\n",
              "      <td>Apartment</td>\n",
              "      <td>Entire home/apt</td>\n",
              "      <td>3</td>\n",
              "      <td>1.0</td>\n",
              "      <td>1.0</td>\n",
              "      <td>4.0</td>\n",
              "      <td>500</td>\n",
              "      <td>0</td>\n",
              "      <td>1</td>\n",
              "      <td>0</td>\n",
              "      <td>1</td>\n",
              "      <td>730</td>\n",
              "      <td>192</td>\n",
              "      <td>279</td>\n",
              "      <td>80-94/100</td>\n",
              "      <td>9/10</td>\n",
              "      <td>f</td>\n",
              "      <td>moderate</td>\n",
              "      <td>1.0</td>\n",
              "      <td>1.0</td>\n",
              "      <td>0.0</td>\n",
              "      <td>0.0</td>\n",
              "      <td>0.0</td>\n",
              "      <td>1.0</td>\n",
              "      <td>1.0</td>\n",
              "      <td>1.0</td>\n",
              "      <td>1.0</td>\n",
              "      <td>1.0</td>\n",
              "      <td>1.0</td>\n",
              "      <td>1.0</td>\n",
              "      <td>0.0</td>\n",
              "      <td>0.0</td>\n",
              "      <td>0.0</td>\n",
              "      <td>0.0</td>\n",
              "      <td>0.0</td>\n",
              "      <td>1.0</td>\n",
              "      <td>1.0</td>\n",
              "      <td>0.0</td>\n",
              "      <td>1.0</td>\n",
              "      <td>1.0</td>\n",
              "      <td>1.0</td>\n",
              "      <td>0.0</td>\n",
              "      <td>0.0</td>\n",
              "      <td>1.0</td>\n",
              "    </tr>\n",
              "    <tr>\n",
              "      <th>2</th>\n",
              "      <td>5022</td>\n",
              "      <td>unknown</td>\n",
              "      <td>0.0</td>\n",
              "      <td>1.0</td>\n",
              "      <td>1.0</td>\n",
              "      <td>East Harlem</td>\n",
              "      <td>Manhattan</td>\n",
              "      <td>New York, NY</td>\n",
              "      <td>Apartment</td>\n",
              "      <td>Entire home/apt</td>\n",
              "      <td>1</td>\n",
              "      <td>1.0</td>\n",
              "      <td>1.0</td>\n",
              "      <td>1.0</td>\n",
              "      <td>100</td>\n",
              "      <td>80</td>\n",
              "      <td>1</td>\n",
              "      <td>20</td>\n",
              "      <td>10</td>\n",
              "      <td>120</td>\n",
              "      <td>0</td>\n",
              "      <td>9</td>\n",
              "      <td>80-94/100</td>\n",
              "      <td>10/10</td>\n",
              "      <td>f</td>\n",
              "      <td>strict_14_with_grace_period</td>\n",
              "      <td>0.0</td>\n",
              "      <td>1.0</td>\n",
              "      <td>0.0</td>\n",
              "      <td>0.0</td>\n",
              "      <td>0.0</td>\n",
              "      <td>0.0</td>\n",
              "      <td>0.0</td>\n",
              "      <td>1.0</td>\n",
              "      <td>1.0</td>\n",
              "      <td>1.0</td>\n",
              "      <td>1.0</td>\n",
              "      <td>0.0</td>\n",
              "      <td>1.0</td>\n",
              "      <td>1.0</td>\n",
              "      <td>0.0</td>\n",
              "      <td>0.0</td>\n",
              "      <td>1.0</td>\n",
              "      <td>0.0</td>\n",
              "      <td>0.0</td>\n",
              "      <td>0.0</td>\n",
              "      <td>1.0</td>\n",
              "      <td>0.0</td>\n",
              "      <td>1.0</td>\n",
              "      <td>0.0</td>\n",
              "      <td>0.0</td>\n",
              "      <td>1.0</td>\n",
              "    </tr>\n",
              "    <tr>\n",
              "      <th>3</th>\n",
              "      <td>5099</td>\n",
              "      <td>50-89%</td>\n",
              "      <td>0.0</td>\n",
              "      <td>1.0</td>\n",
              "      <td>0.0</td>\n",
              "      <td>Murray Hill</td>\n",
              "      <td>Manhattan</td>\n",
              "      <td>New York, NY</td>\n",
              "      <td>Apartment</td>\n",
              "      <td>Entire home/apt</td>\n",
              "      <td>2</td>\n",
              "      <td>1.0</td>\n",
              "      <td>1.0</td>\n",
              "      <td>1.0</td>\n",
              "      <td>300</td>\n",
              "      <td>125</td>\n",
              "      <td>2</td>\n",
              "      <td>100</td>\n",
              "      <td>3</td>\n",
              "      <td>21</td>\n",
              "      <td>13</td>\n",
              "      <td>75</td>\n",
              "      <td>80-94/100</td>\n",
              "      <td>9/10</td>\n",
              "      <td>f</td>\n",
              "      <td>moderate</td>\n",
              "      <td>0.0</td>\n",
              "      <td>0.0</td>\n",
              "      <td>0.0</td>\n",
              "      <td>1.0</td>\n",
              "      <td>0.0</td>\n",
              "      <td>1.0</td>\n",
              "      <td>0.0</td>\n",
              "      <td>1.0</td>\n",
              "      <td>1.0</td>\n",
              "      <td>0.0</td>\n",
              "      <td>1.0</td>\n",
              "      <td>0.0</td>\n",
              "      <td>0.0</td>\n",
              "      <td>0.0</td>\n",
              "      <td>0.0</td>\n",
              "      <td>0.0</td>\n",
              "      <td>1.0</td>\n",
              "      <td>0.0</td>\n",
              "      <td>0.0</td>\n",
              "      <td>0.0</td>\n",
              "      <td>1.0</td>\n",
              "      <td>0.0</td>\n",
              "      <td>1.0</td>\n",
              "      <td>0.0</td>\n",
              "      <td>0.0</td>\n",
              "      <td>1.0</td>\n",
              "    </tr>\n",
              "    <tr>\n",
              "      <th>4</th>\n",
              "      <td>5121</td>\n",
              "      <td>0-49%</td>\n",
              "      <td>0.0</td>\n",
              "      <td>1.0</td>\n",
              "      <td>0.0</td>\n",
              "      <td>Bedford-Stuyvesant</td>\n",
              "      <td>Brooklyn</td>\n",
              "      <td>Brooklyn, NY</td>\n",
              "      <td>Apartment</td>\n",
              "      <td>Private room</td>\n",
              "      <td>2</td>\n",
              "      <td>1.0</td>\n",
              "      <td>1.0</td>\n",
              "      <td>1.0</td>\n",
              "      <td>450</td>\n",
              "      <td>0</td>\n",
              "      <td>1</td>\n",
              "      <td>30</td>\n",
              "      <td>45</td>\n",
              "      <td>730</td>\n",
              "      <td>0</td>\n",
              "      <td>49</td>\n",
              "      <td>80-94/100</td>\n",
              "      <td>9/10</td>\n",
              "      <td>f</td>\n",
              "      <td>strict_14_with_grace_period</td>\n",
              "      <td>0.0</td>\n",
              "      <td>1.0</td>\n",
              "      <td>0.0</td>\n",
              "      <td>0.0</td>\n",
              "      <td>0.0</td>\n",
              "      <td>0.0</td>\n",
              "      <td>0.0</td>\n",
              "      <td>1.0</td>\n",
              "      <td>0.0</td>\n",
              "      <td>0.0</td>\n",
              "      <td>0.0</td>\n",
              "      <td>0.0</td>\n",
              "      <td>0.0</td>\n",
              "      <td>0.0</td>\n",
              "      <td>0.0</td>\n",
              "      <td>0.0</td>\n",
              "      <td>0.0</td>\n",
              "      <td>0.0</td>\n",
              "      <td>1.0</td>\n",
              "      <td>0.0</td>\n",
              "      <td>0.0</td>\n",
              "      <td>0.0</td>\n",
              "      <td>1.0</td>\n",
              "      <td>0.0</td>\n",
              "      <td>0.0</td>\n",
              "      <td>0.0</td>\n",
              "    </tr>\n",
              "    <tr>\n",
              "      <th>...</th>\n",
              "      <td>...</td>\n",
              "      <td>...</td>\n",
              "      <td>...</td>\n",
              "      <td>...</td>\n",
              "      <td>...</td>\n",
              "      <td>...</td>\n",
              "      <td>...</td>\n",
              "      <td>...</td>\n",
              "      <td>...</td>\n",
              "      <td>...</td>\n",
              "      <td>...</td>\n",
              "      <td>...</td>\n",
              "      <td>...</td>\n",
              "      <td>...</td>\n",
              "      <td>...</td>\n",
              "      <td>...</td>\n",
              "      <td>...</td>\n",
              "      <td>...</td>\n",
              "      <td>...</td>\n",
              "      <td>...</td>\n",
              "      <td>...</td>\n",
              "      <td>...</td>\n",
              "      <td>...</td>\n",
              "      <td>...</td>\n",
              "      <td>...</td>\n",
              "      <td>...</td>\n",
              "      <td>...</td>\n",
              "      <td>...</td>\n",
              "      <td>...</td>\n",
              "      <td>...</td>\n",
              "      <td>...</td>\n",
              "      <td>...</td>\n",
              "      <td>...</td>\n",
              "      <td>...</td>\n",
              "      <td>...</td>\n",
              "      <td>...</td>\n",
              "      <td>...</td>\n",
              "      <td>...</td>\n",
              "      <td>...</td>\n",
              "      <td>...</td>\n",
              "      <td>...</td>\n",
              "      <td>...</td>\n",
              "      <td>...</td>\n",
              "      <td>...</td>\n",
              "      <td>...</td>\n",
              "      <td>...</td>\n",
              "      <td>...</td>\n",
              "      <td>...</td>\n",
              "      <td>...</td>\n",
              "      <td>...</td>\n",
              "      <td>...</td>\n",
              "      <td>...</td>\n",
              "    </tr>\n",
              "    <tr>\n",
              "      <th>48372</th>\n",
              "      <td>38564068</td>\n",
              "      <td>100%</td>\n",
              "      <td>0.0</td>\n",
              "      <td>0.0</td>\n",
              "      <td>0.0</td>\n",
              "      <td>Cypress Hills</td>\n",
              "      <td>Brooklyn</td>\n",
              "      <td>Brooklyn, NY</td>\n",
              "      <td>Apartment</td>\n",
              "      <td>Entire home/apt</td>\n",
              "      <td>7</td>\n",
              "      <td>2.0</td>\n",
              "      <td>3.0</td>\n",
              "      <td>4.0</td>\n",
              "      <td>100</td>\n",
              "      <td>100</td>\n",
              "      <td>4</td>\n",
              "      <td>50</td>\n",
              "      <td>2</td>\n",
              "      <td>10</td>\n",
              "      <td>42</td>\n",
              "      <td>0</td>\n",
              "      <td>nan</td>\n",
              "      <td>nan</td>\n",
              "      <td>f</td>\n",
              "      <td>strict_14_with_grace_period</td>\n",
              "      <td>0.0</td>\n",
              "      <td>0.0</td>\n",
              "      <td>0.0</td>\n",
              "      <td>0.0</td>\n",
              "      <td>0.0</td>\n",
              "      <td>0.0</td>\n",
              "      <td>0.0</td>\n",
              "      <td>1.0</td>\n",
              "      <td>1.0</td>\n",
              "      <td>0.0</td>\n",
              "      <td>0.0</td>\n",
              "      <td>0.0</td>\n",
              "      <td>0.0</td>\n",
              "      <td>0.0</td>\n",
              "      <td>0.0</td>\n",
              "      <td>0.0</td>\n",
              "      <td>0.0</td>\n",
              "      <td>0.0</td>\n",
              "      <td>0.0</td>\n",
              "      <td>1.0</td>\n",
              "      <td>0.0</td>\n",
              "      <td>0.0</td>\n",
              "      <td>0.0</td>\n",
              "      <td>0.0</td>\n",
              "      <td>0.0</td>\n",
              "      <td>1.0</td>\n",
              "    </tr>\n",
              "    <tr>\n",
              "      <th>48373</th>\n",
              "      <td>38564524</td>\n",
              "      <td>unknown</td>\n",
              "      <td>0.0</td>\n",
              "      <td>0.0</td>\n",
              "      <td>0.0</td>\n",
              "      <td>Upper East Side</td>\n",
              "      <td>Manhattan</td>\n",
              "      <td>New York, NY</td>\n",
              "      <td>Apartment</td>\n",
              "      <td>Entire home/apt</td>\n",
              "      <td>2</td>\n",
              "      <td>1.0</td>\n",
              "      <td>0.0</td>\n",
              "      <td>1.0</td>\n",
              "      <td>5000</td>\n",
              "      <td>300</td>\n",
              "      <td>1</td>\n",
              "      <td>0</td>\n",
              "      <td>30</td>\n",
              "      <td>1125</td>\n",
              "      <td>263</td>\n",
              "      <td>0</td>\n",
              "      <td>nan</td>\n",
              "      <td>nan</td>\n",
              "      <td>t</td>\n",
              "      <td>moderate</td>\n",
              "      <td>0.0</td>\n",
              "      <td>1.0</td>\n",
              "      <td>0.0</td>\n",
              "      <td>0.0</td>\n",
              "      <td>0.0</td>\n",
              "      <td>1.0</td>\n",
              "      <td>0.0</td>\n",
              "      <td>0.0</td>\n",
              "      <td>1.0</td>\n",
              "      <td>0.0</td>\n",
              "      <td>0.0</td>\n",
              "      <td>0.0</td>\n",
              "      <td>1.0</td>\n",
              "      <td>1.0</td>\n",
              "      <td>0.0</td>\n",
              "      <td>0.0</td>\n",
              "      <td>0.0</td>\n",
              "      <td>0.0</td>\n",
              "      <td>0.0</td>\n",
              "      <td>1.0</td>\n",
              "      <td>0.0</td>\n",
              "      <td>0.0</td>\n",
              "      <td>1.0</td>\n",
              "      <td>0.0</td>\n",
              "      <td>0.0</td>\n",
              "      <td>1.0</td>\n",
              "    </tr>\n",
              "    <tr>\n",
              "      <th>48374</th>\n",
              "      <td>38566777</td>\n",
              "      <td>unknown</td>\n",
              "      <td>0.0</td>\n",
              "      <td>1.0</td>\n",
              "      <td>0.0</td>\n",
              "      <td>Bushwick</td>\n",
              "      <td>Brooklyn</td>\n",
              "      <td>Brooklyn , NY</td>\n",
              "      <td>Apartment</td>\n",
              "      <td>Private room</td>\n",
              "      <td>1</td>\n",
              "      <td>1.0</td>\n",
              "      <td>1.0</td>\n",
              "      <td>1.0</td>\n",
              "      <td>0</td>\n",
              "      <td>0</td>\n",
              "      <td>1</td>\n",
              "      <td>0</td>\n",
              "      <td>30</td>\n",
              "      <td>1125</td>\n",
              "      <td>66</td>\n",
              "      <td>0</td>\n",
              "      <td>nan</td>\n",
              "      <td>nan</td>\n",
              "      <td>f</td>\n",
              "      <td>flexible</td>\n",
              "      <td>0.0</td>\n",
              "      <td>1.0</td>\n",
              "      <td>0.0</td>\n",
              "      <td>0.0</td>\n",
              "      <td>0.0</td>\n",
              "      <td>0.0</td>\n",
              "      <td>0.0</td>\n",
              "      <td>1.0</td>\n",
              "      <td>1.0</td>\n",
              "      <td>0.0</td>\n",
              "      <td>0.0</td>\n",
              "      <td>0.0</td>\n",
              "      <td>1.0</td>\n",
              "      <td>1.0</td>\n",
              "      <td>1.0</td>\n",
              "      <td>0.0</td>\n",
              "      <td>0.0</td>\n",
              "      <td>0.0</td>\n",
              "      <td>0.0</td>\n",
              "      <td>0.0</td>\n",
              "      <td>0.0</td>\n",
              "      <td>0.0</td>\n",
              "      <td>1.0</td>\n",
              "      <td>0.0</td>\n",
              "      <td>0.0</td>\n",
              "      <td>1.0</td>\n",
              "    </tr>\n",
              "    <tr>\n",
              "      <th>48375</th>\n",
              "      <td>38567542</td>\n",
              "      <td>100%</td>\n",
              "      <td>0.0</td>\n",
              "      <td>10.0</td>\n",
              "      <td>0.0</td>\n",
              "      <td>Crown Heights</td>\n",
              "      <td>Brooklyn</td>\n",
              "      <td>Brooklyn, NY</td>\n",
              "      <td>House</td>\n",
              "      <td>Private room</td>\n",
              "      <td>4</td>\n",
              "      <td>3.0</td>\n",
              "      <td>1.0</td>\n",
              "      <td>1.0</td>\n",
              "      <td>0</td>\n",
              "      <td>39</td>\n",
              "      <td>1</td>\n",
              "      <td>15</td>\n",
              "      <td>1</td>\n",
              "      <td>365</td>\n",
              "      <td>322</td>\n",
              "      <td>0</td>\n",
              "      <td>nan</td>\n",
              "      <td>nan</td>\n",
              "      <td>f</td>\n",
              "      <td>strict_14_with_grace_period</td>\n",
              "      <td>0.0</td>\n",
              "      <td>1.0</td>\n",
              "      <td>0.0</td>\n",
              "      <td>1.0</td>\n",
              "      <td>0.0</td>\n",
              "      <td>0.0</td>\n",
              "      <td>1.0</td>\n",
              "      <td>1.0</td>\n",
              "      <td>1.0</td>\n",
              "      <td>1.0</td>\n",
              "      <td>1.0</td>\n",
              "      <td>0.0</td>\n",
              "      <td>0.0</td>\n",
              "      <td>0.0</td>\n",
              "      <td>0.0</td>\n",
              "      <td>0.0</td>\n",
              "      <td>0.0</td>\n",
              "      <td>0.0</td>\n",
              "      <td>0.0</td>\n",
              "      <td>0.0</td>\n",
              "      <td>1.0</td>\n",
              "      <td>1.0</td>\n",
              "      <td>1.0</td>\n",
              "      <td>0.0</td>\n",
              "      <td>0.0</td>\n",
              "      <td>1.0</td>\n",
              "    </tr>\n",
              "    <tr>\n",
              "      <th>48376</th>\n",
              "      <td>38568081</td>\n",
              "      <td>unknown</td>\n",
              "      <td>0.0</td>\n",
              "      <td>1.0</td>\n",
              "      <td>0.0</td>\n",
              "      <td>Far Rockaway</td>\n",
              "      <td>Queens</td>\n",
              "      <td>Far Rockaway , NY</td>\n",
              "      <td>House</td>\n",
              "      <td>Private room</td>\n",
              "      <td>2</td>\n",
              "      <td>1.0</td>\n",
              "      <td>1.0</td>\n",
              "      <td>1.0</td>\n",
              "      <td>0</td>\n",
              "      <td>0</td>\n",
              "      <td>1</td>\n",
              "      <td>0</td>\n",
              "      <td>3</td>\n",
              "      <td>30</td>\n",
              "      <td>173</td>\n",
              "      <td>0</td>\n",
              "      <td>nan</td>\n",
              "      <td>nan</td>\n",
              "      <td>t</td>\n",
              "      <td>flexible</td>\n",
              "      <td>0.0</td>\n",
              "      <td>0.0</td>\n",
              "      <td>0.0</td>\n",
              "      <td>0.0</td>\n",
              "      <td>0.0</td>\n",
              "      <td>1.0</td>\n",
              "      <td>0.0</td>\n",
              "      <td>1.0</td>\n",
              "      <td>1.0</td>\n",
              "      <td>0.0</td>\n",
              "      <td>0.0</td>\n",
              "      <td>0.0</td>\n",
              "      <td>0.0</td>\n",
              "      <td>0.0</td>\n",
              "      <td>1.0</td>\n",
              "      <td>0.0</td>\n",
              "      <td>0.0</td>\n",
              "      <td>0.0</td>\n",
              "      <td>0.0</td>\n",
              "      <td>0.0</td>\n",
              "      <td>1.0</td>\n",
              "      <td>0.0</td>\n",
              "      <td>1.0</td>\n",
              "      <td>0.0</td>\n",
              "      <td>0.0</td>\n",
              "      <td>1.0</td>\n",
              "    </tr>\n",
              "  </tbody>\n",
              "</table>\n",
              "<p>48377 rows × 52 columns</p>\n",
              "</div>"
            ],
            "text/plain": [
              "             id host_response_rate  ...  well_lit_entrance  essentials\n",
              "0          3647              0-49%  ...                0.0         0.0\n",
              "1          3831             90-99%  ...                0.0         1.0\n",
              "2          5022            unknown  ...                0.0         1.0\n",
              "3          5099             50-89%  ...                0.0         1.0\n",
              "4          5121              0-49%  ...                0.0         0.0\n",
              "...         ...                ...  ...                ...         ...\n",
              "48372  38564068               100%  ...                0.0         1.0\n",
              "48373  38564524            unknown  ...                0.0         1.0\n",
              "48374  38566777            unknown  ...                0.0         1.0\n",
              "48375  38567542               100%  ...                0.0         1.0\n",
              "48376  38568081            unknown  ...                0.0         1.0\n",
              "\n",
              "[48377 rows x 52 columns]"
            ]
          },
          "metadata": {
            "tags": []
          },
          "execution_count": 82
        }
      ]
    },
    {
      "cell_type": "code",
      "metadata": {
        "id": "-ARBH6iaPsoP",
        "colab_type": "code",
        "outputId": "68fd2417-0b0c-4f60-bb82-cf9474da70ef",
        "colab": {
          "base_uri": "https://localhost:8080/",
          "height": 218
        }
      },
      "source": [
        "y"
      ],
      "execution_count": 83,
      "outputs": [
        {
          "output_type": "execute_result",
          "data": {
            "text/plain": [
              "0        150\n",
              "1         89\n",
              "2         80\n",
              "3        200\n",
              "4         60\n",
              "        ... \n",
              "48372    199\n",
              "48373    175\n",
              "48374     35\n",
              "48375     79\n",
              "48376     45\n",
              "Name: price, Length: 48377, dtype: int64"
            ]
          },
          "metadata": {
            "tags": []
          },
          "execution_count": 83
        }
      ]
    },
    {
      "cell_type": "code",
      "metadata": {
        "id": "FnMtx1n9ouvm",
        "colab_type": "code",
        "outputId": "be4d08b6-8d0d-4da4-ebdc-096422362184",
        "colab": {
          "base_uri": "https://localhost:8080/",
          "height": 50
        }
      },
      "source": [
        "from sklearn.svm import SVR\n",
        "svr_lin  = SVR(kernel='poly',C=1e3)\n",
        "svr_lin.fit(X_train, y_train)"
      ],
      "execution_count": 84,
      "outputs": [
        {
          "output_type": "execute_result",
          "data": {
            "text/plain": [
              "SVR(C=1000.0, cache_size=200, coef0=0.0, degree=3, epsilon=0.1, gamma='scale',\n",
              "    kernel='poly', max_iter=-1, shrinking=True, tol=0.001, verbose=False)"
            ]
          },
          "metadata": {
            "tags": []
          },
          "execution_count": 84
        }
      ]
    },
    {
      "cell_type": "code",
      "metadata": {
        "id": "wGpZAttHjgFU",
        "colab_type": "code",
        "colab": {}
      },
      "source": [
        "svr_predict = svr_lin.predict(X_test)"
      ],
      "execution_count": 0,
      "outputs": []
    },
    {
      "cell_type": "code",
      "metadata": {
        "id": "qiCH1p5ElSIx",
        "colab_type": "code",
        "outputId": "dc944035-fa02-4f12-aae2-ca9544d9d35d",
        "colab": {
          "base_uri": "https://localhost:8080/",
          "height": 50
        }
      },
      "source": [
        "svr_predict"
      ],
      "execution_count": 86,
      "outputs": [
        {
          "output_type": "execute_result",
          "data": {
            "text/plain": [
              "array([100.09997103, 100.09997103, 100.09997103, ..., 100.09997103,\n",
              "       100.09997103, 100.09997103])"
            ]
          },
          "metadata": {
            "tags": []
          },
          "execution_count": 86
        }
      ]
    },
    {
      "cell_type": "code",
      "metadata": {
        "id": "CKdtbFLIkBT3",
        "colab_type": "code",
        "colab": {
          "base_uri": "https://localhost:8080/",
          "height": 402
        },
        "outputId": "33ef3817-3c80-4c0c-cf63-172cc5a2436a"
      },
      "source": [
        "svr_p1=pd.DataFrame(svr_predict)\n",
        "# svr_p1=svr_p1.astype('float64').replace(0,0.1)\n",
        "# svr_p=np.exp(svr_p1)\n",
        "# for a in svr_p1:\n",
        "#   print(a)\n",
        "svr_p1\n",
        "  # print(\"\"\"\n",
        "#         Root Mean Squared Error: {}\n",
        "#         R2 Score: {}\n",
        "#         Mean Absolute Error: {}\n",
        "#      \"\"\".format(\n",
        "#         np.sqrt(metrics.mean_squared_error(y_test, svr_p)),\n",
        "#         r2_score(y_test,  svr_p) * 100,\n",
        "#         mean_absolute_error(y_test,  svr_p)\n",
        "#         ))"
      ],
      "execution_count": 87,
      "outputs": [
        {
          "output_type": "execute_result",
          "data": {
            "text/html": [
              "<div>\n",
              "<style scoped>\n",
              "    .dataframe tbody tr th:only-of-type {\n",
              "        vertical-align: middle;\n",
              "    }\n",
              "\n",
              "    .dataframe tbody tr th {\n",
              "        vertical-align: top;\n",
              "    }\n",
              "\n",
              "    .dataframe thead th {\n",
              "        text-align: right;\n",
              "    }\n",
              "</style>\n",
              "<table border=\"1\" class=\"dataframe\">\n",
              "  <thead>\n",
              "    <tr style=\"text-align: right;\">\n",
              "      <th></th>\n",
              "      <th>0</th>\n",
              "    </tr>\n",
              "  </thead>\n",
              "  <tbody>\n",
              "    <tr>\n",
              "      <th>0</th>\n",
              "      <td>100.099971</td>\n",
              "    </tr>\n",
              "    <tr>\n",
              "      <th>1</th>\n",
              "      <td>100.099971</td>\n",
              "    </tr>\n",
              "    <tr>\n",
              "      <th>2</th>\n",
              "      <td>100.099971</td>\n",
              "    </tr>\n",
              "    <tr>\n",
              "      <th>3</th>\n",
              "      <td>100.099971</td>\n",
              "    </tr>\n",
              "    <tr>\n",
              "      <th>4</th>\n",
              "      <td>100.099971</td>\n",
              "    </tr>\n",
              "    <tr>\n",
              "      <th>...</th>\n",
              "      <td>...</td>\n",
              "    </tr>\n",
              "    <tr>\n",
              "      <th>9438</th>\n",
              "      <td>100.099971</td>\n",
              "    </tr>\n",
              "    <tr>\n",
              "      <th>9439</th>\n",
              "      <td>100.099971</td>\n",
              "    </tr>\n",
              "    <tr>\n",
              "      <th>9440</th>\n",
              "      <td>100.099971</td>\n",
              "    </tr>\n",
              "    <tr>\n",
              "      <th>9441</th>\n",
              "      <td>100.099971</td>\n",
              "    </tr>\n",
              "    <tr>\n",
              "      <th>9442</th>\n",
              "      <td>100.099971</td>\n",
              "    </tr>\n",
              "  </tbody>\n",
              "</table>\n",
              "<p>9443 rows × 1 columns</p>\n",
              "</div>"
            ],
            "text/plain": [
              "               0\n",
              "0     100.099971\n",
              "1     100.099971\n",
              "2     100.099971\n",
              "3     100.099971\n",
              "4     100.099971\n",
              "...          ...\n",
              "9438  100.099971\n",
              "9439  100.099971\n",
              "9440  100.099971\n",
              "9441  100.099971\n",
              "9442  100.099971\n",
              "\n",
              "[9443 rows x 1 columns]"
            ]
          },
          "metadata": {
            "tags": []
          },
          "execution_count": 87
        }
      ]
    },
    {
      "cell_type": "code",
      "metadata": {
        "id": "FP-L_BeKRx5k",
        "colab_type": "code",
        "outputId": "1aa18d75-27b2-4433-cf58-55c508692376",
        "colab": {
          "base_uri": "https://localhost:8080/",
          "height": 1000
        }
      },
      "source": [
        "from sklearn.preprocessing import LabelEncoder\n",
        "gle = LabelEncoder()\n",
        "\n",
        "host_response_rate_labels = gle.fit_transform(X['host_response_rate'])\n",
        "host_response_rate_mappings = {index: label for index, label in \n",
        "                  enumerate(gle.classes_)}\n",
        "print(host_response_rate_mappings)\n",
        "X[['host_response_rate']] = host_response_rate_labels\n",
        "\n",
        "#neighbourhood_labels = gle.fit_transform(X['neighbourhood'])\n",
        "\n",
        "neighbourhood_cleansed_labels = gle.fit_transform(X['neighbourhood_cleansed'])\n",
        "neighbourhood_cleansed_mappings = {index: label for index, label in \n",
        "                  enumerate(gle.classes_)}\n",
        "print(neighbourhood_cleansed_mappings)\n",
        "X[['neighbourhood_cleansed']] = neighbourhood_cleansed_labels\n",
        "\n",
        "neighbourhood_group_cleansed_labels = gle.fit_transform(X['neighbourhood_group_cleansed'])\n",
        "neighbourhood_group_cleansed_mappings = {index: label for index, label in \n",
        "                  enumerate(gle.classes_)}\n",
        "print(neighbourhood_group_cleansed_mappings)\n",
        "X[['neighbourhood_group_cleansed']] = neighbourhood_cleansed_labels\n",
        "\n",
        "#market_labels = gle.fit_transform(X['market'])\n",
        "\n",
        "smart_location_labels = gle.fit_transform(X['smart_location'])\n",
        "smart_location_mappings = {index: label for index, label in \n",
        "                  enumerate(gle.classes_)}\n",
        "print(smart_location_mappings)\n",
        "X[['smart_location']] = smart_location_labels\n",
        "\n",
        "property_type_labels = gle.fit_transform(X['property_type'])\n",
        "property_type_mappings = {index: label for index, label in \n",
        "                  enumerate(gle.classes_)}\n",
        "print(property_type_mappings)\n",
        "X[['property_type']] = property_type_labels\n",
        "\n",
        "room_type_labels = gle.fit_transform(X['room_type'])\n",
        "room_type_mappings = {index: label for index, label in \n",
        "                  enumerate(gle.classes_)}\n",
        "print(room_type_mappings)\n",
        "X[['room_type']] = room_type_labels\n",
        "\n",
        "\n",
        "review_scores_rating_labels = gle.fit_transform(X['review_scores_rating'])\n",
        "review_scores_rating_mappings = {index: label for index, label in \n",
        "                  enumerate(gle.classes_)}\n",
        "print(review_scores_rating_mappings)\n",
        "X[['review_scores_rating']] = review_scores_rating_labels\n",
        "\n",
        "\n",
        "review_scores_value_labels = gle.fit_transform(X['review_scores_value'])\n",
        "review_scores_value_mappings = {index: label for index, label in \n",
        "                  enumerate(gle.classes_)}\n",
        "print(review_scores_value_mappings)\n",
        "X[['review_scores_value']] = review_scores_value_labels\n",
        "\n",
        "instant_bookable_labels = gle.fit_transform(X['instant_bookable'])\n",
        "instant_bookable_mappings = {index: label for index, label in \n",
        "                  enumerate(gle.classes_)}\n",
        "print(instant_bookable_mappings)\n",
        "X[['instant_bookable']] = instant_bookable_labels\n",
        "\n",
        "cancellation_policy_labels = gle.fit_transform(X['cancellation_policy'])\n",
        "cancellation_policy_mappings = {index: label for index, label in \n",
        "                  enumerate(gle.classes_)}\n",
        "print(cancellation_policy_mappings)\n",
        "X[['cancellation_policy']] = cancellation_policy_labels\n"
      ],
      "execution_count": 88,
      "outputs": [
        {
          "output_type": "stream",
          "text": [
            "{0: '0-49%', 1: '100%', 2: '50-89%', 3: '90-99%', 4: 'unknown'}\n",
            "{0: 'Allerton', 1: 'Arden Heights', 2: 'Arrochar', 3: 'Arverne', 4: 'Astoria', 5: 'Bath Beach', 6: 'Battery Park City', 7: 'Bay Ridge', 8: 'Bay Terrace', 9: 'Bay Terrace, Staten Island', 10: 'Baychester', 11: 'Bayside', 12: 'Bayswater', 13: 'Bedford-Stuyvesant', 14: 'Belle Harbor', 15: 'Bellerose', 16: 'Belmont', 17: 'Bensonhurst', 18: 'Bergen Beach', 19: 'Boerum Hill', 20: 'Borough Park', 21: 'Breezy Point', 22: 'Briarwood', 23: 'Brighton Beach', 24: 'Bronxdale', 25: 'Brooklyn Heights', 26: 'Brownsville', 27: \"Bull's Head\", 28: 'Bushwick', 29: 'Cambria Heights', 30: 'Canarsie', 31: 'Carroll Gardens', 32: 'Castle Hill', 33: 'Castleton Corners', 34: 'Charleston', 35: 'Chelsea', 36: 'Chinatown', 37: 'City Island', 38: 'Civic Center', 39: 'Claremont Village', 40: 'Clason Point', 41: 'Clifton', 42: 'Clinton Hill', 43: 'Co-op City', 44: 'Cobble Hill', 45: 'College Point', 46: 'Columbia St', 47: 'Concord', 48: 'Concourse', 49: 'Concourse Village', 50: 'Coney Island', 51: 'Corona', 52: 'Country Club', 53: 'Crown Heights', 54: 'Cypress Hills', 55: 'DUMBO', 56: 'Ditmars Steinway', 57: 'Dongan Hills', 58: 'Douglaston', 59: 'Downtown Brooklyn', 60: 'Dyker Heights', 61: 'East Elmhurst', 62: 'East Flatbush', 63: 'East Harlem', 64: 'East Morrisania', 65: 'East New York', 66: 'East Village', 67: 'Eastchester', 68: 'Edenwald', 69: 'Edgemere', 70: 'Elmhurst', 71: 'Eltingville', 72: 'Emerson Hill', 73: 'Far Rockaway', 74: 'Fieldston', 75: 'Financial District', 76: 'Flatbush', 77: 'Flatiron District', 78: 'Flatlands', 79: 'Flushing', 80: 'Fordham', 81: 'Forest Hills', 82: 'Fort Greene', 83: 'Fort Hamilton', 84: 'Fort Wadsworth', 85: 'Fresh Meadows', 86: 'Gerritsen Beach', 87: 'Glendale', 88: 'Gowanus', 89: 'Gramercy', 90: 'Graniteville', 91: 'Grant City', 92: 'Gravesend', 93: 'Great Kills', 94: 'Greenpoint', 95: 'Greenwich Village', 96: 'Grymes Hill', 97: 'Harlem', 98: \"Hell's Kitchen\", 99: 'Highbridge', 100: 'Hollis', 101: 'Holliswood', 102: 'Howard Beach', 103: 'Howland Hook', 104: 'Huguenot', 105: 'Hunts Point', 106: 'Inwood', 107: 'Jackson Heights', 108: 'Jamaica', 109: 'Jamaica Estates', 110: 'Jamaica Hills', 111: 'Kensington', 112: 'Kew Gardens', 113: 'Kew Gardens Hills', 114: 'Kingsbridge', 115: 'Kips Bay', 116: 'Laurelton', 117: 'Lighthouse Hill', 118: 'Little Italy', 119: 'Little Neck', 120: 'Long Island City', 121: 'Longwood', 122: 'Lower East Side', 123: 'Manhattan Beach', 124: 'Marble Hill', 125: 'Mariners Harbor', 126: 'Maspeth', 127: 'Melrose', 128: 'Middle Village', 129: 'Midland Beach', 130: 'Midtown', 131: 'Midwood', 132: 'Mill Basin', 133: 'Morningside Heights', 134: 'Morris Heights', 135: 'Morris Park', 136: 'Morrisania', 137: 'Mott Haven', 138: 'Mount Eden', 139: 'Mount Hope', 140: 'Murray Hill', 141: 'Navy Yard', 142: 'Neponsit', 143: 'New Brighton', 144: 'New Dorp', 145: 'New Dorp Beach', 146: 'New Springville', 147: 'NoHo', 148: 'Nolita', 149: 'North Riverdale', 150: 'Norwood', 151: 'Oakwood', 152: 'Olinville', 153: 'Ozone Park', 154: 'Park Slope', 155: 'Parkchester', 156: 'Pelham Bay', 157: 'Pelham Gardens', 158: 'Port Morris', 159: 'Port Richmond', 160: \"Prince's Bay\", 161: 'Prospect Heights', 162: 'Prospect-Lefferts Gardens', 163: 'Queens Village', 164: 'Randall Manor', 165: 'Red Hook', 166: 'Rego Park', 167: 'Richmond Hill', 168: 'Richmondtown', 169: 'Ridgewood', 170: 'Riverdale', 171: 'Rockaway Beach', 172: 'Roosevelt Island', 173: 'Rosebank', 174: 'Rosedale', 175: 'Rossville', 176: 'Schuylerville', 177: 'Sea Gate', 178: 'Sheepshead Bay', 179: 'Shore Acres', 180: 'Silver Lake', 181: 'SoHo', 182: 'Soundview', 183: 'South Beach', 184: 'South Ozone Park', 185: 'South Slope', 186: 'Springfield Gardens', 187: 'Spuyten Duyvil', 188: 'St. Albans', 189: 'St. George', 190: 'Stapleton', 191: 'Stuyvesant Town', 192: 'Sunnyside', 193: 'Sunset Park', 194: 'Theater District', 195: 'Throgs Neck', 196: 'Todt Hill', 197: 'Tompkinsville', 198: 'Tottenville', 199: 'Tremont', 200: 'Tribeca', 201: 'Two Bridges', 202: 'Unionport', 203: 'University Heights', 204: 'Upper East Side', 205: 'Upper West Side', 206: 'Van Nest', 207: 'Vinegar Hill', 208: 'Wakefield', 209: 'Washington Heights', 210: 'West Brighton', 211: 'West Farms', 212: 'West Village', 213: 'Westchester Square', 214: 'Westerleigh', 215: 'Whitestone', 216: 'Williamsbridge', 217: 'Williamsburg', 218: 'Willowbrook', 219: 'Windsor Terrace', 220: 'Woodhaven', 221: 'Woodlawn', 222: 'Woodrow', 223: 'Woodside'}\n",
            "{0: 'Bronx', 1: 'Brooklyn', 2: 'Manhattan', 3: 'Queens', 4: 'Staten Island'}\n",
            "{0: ' Astoria, NY', 1: ' Bronx , NY', 2: ' Brooklyn , NY', 3: ' Brooklyn, NY', 4: ' Bushwick,Brooklyn, NY', 5: ' New  York , NY', 6: ' New York , NY', 7: ' South Ozone Park, NY', 8: '8425 Elmhurst avenue , NY', 9: 'ASTORIA, NY', 10: 'ASTORIA/LIC, NY', 11: 'Arverne , NY', 12: 'Arverne, NY', 13: 'Astoria , NY', 14: 'Astoria - New York, NY', 15: 'Astoria New York, NY', 16: 'Astoria Queens , NY', 17: 'Astoria Queens, NY', 18: 'Astoria, NY', 19: 'Astoria, Queens, NY', 20: 'Astoria,Queens, NY', 21: 'Astoria/Queens, NY', 22: 'Auburndale, NY', 23: 'BROOKLYN , NY', 24: 'BROOKLYN, NY', 25: 'Bayside, NY', 26: 'Bayside, Queens, NY', 27: 'Bbrookiyn  (Bushwick), NY', 28: 'Bedford-Stuyvesant, NY', 29: 'Belle Harbor, NY', 30: 'Belle harbor , NY', 31: 'Bklyn NY, NY', 32: 'Briarwood , NY', 33: 'Briarwood, NY', 34: 'Bronx , NY', 35: 'Bronx NY , NY', 36: 'Bronx New York, NY', 37: 'Bronx ny, NY', 38: 'Bronx, NY', 39: 'Bronx, NY, NY', 40: 'Bronx/ City Island , NY', 41: 'Bronxville, NY', 42: 'Brookkyn, NY', 43: 'Brookly , NY', 44: 'Brooklyn\\nBrooklyn, NY', 45: 'Brooklyn (Williamsburg), NY', 46: 'Brooklyn , NY', 47: 'Brooklyn , Ny', 48: 'Brooklyn Heights , NY', 49: 'Brooklyn Heights, NY', 50: 'Brooklyn NY , NY', 51: 'Brooklyn New York , NY', 52: 'Brooklyn ny , NY', 53: 'Brooklyn,  NY, NY', 54: 'Brooklyn,  Ny 11221, NY', 55: 'Brooklyn, Bedford Stuyvesant, NY', 56: 'Brooklyn, MP', 57: 'Brooklyn, NY', 58: 'Brooklyn, NY 11221 , NY', 59: 'Brooklyn, NY, NY', 60: 'Brooklyn, New York ', 61: 'Brooklyn, New York, NY', 62: 'Brooklyn, Ny', 63: 'Brookyln , NY', 64: 'Bushwick , NY', 65: 'Bushwick Brooklyn , NY', 66: 'Bushwick Brooklyn, NY', 67: 'Bushwick, Brooklyn, NY', 68: 'Bushwick, NY', 69: 'Cambria  Heights, Queens , NY', 70: 'Cambria Heights, NY', 71: 'Cambria heights , NY', 72: 'Carroll Gardens,Brooklyn, NYC, NY', 73: 'Central Park North, Harlem, NY', 74: 'Chelsea, New York, NY', 75: 'City Island , NY', 76: 'Clinton Hill Brooklyn, NY', 77: 'College Point, NY', 78: 'College point , NY', 79: 'Corona , NY', 80: 'Corona, NY', 81: 'Douglaston, NY', 82: 'EAST ELMHURST, NY', 83: 'East Elmhurst (Queens), NY', 84: 'East Elmhurst , NY', 85: 'East Elmhurst or Flushing , NY', 86: 'East Elmhurst, NY', 87: 'East Elmhurst, Queens, NY', 88: 'East Williamsburg, NY', 89: 'East elmhurst , NY', 90: 'East elmhurst, NY', 91: 'Elmhurst , NY', 92: 'Elmhurst, NY', 93: 'Elmhurst/Jackson Heights , NY', 94: 'Elmhurts , NY', 95: 'Elmhutst, NY', 96: 'Elmont, NY', 97: 'FLUSHING, NY', 98: 'FLushing, NY', 99: 'FOREST HILLS, NY', 100: 'Far Rockaway , Bayswater , NY', 101: 'Far Rockaway , NY', 102: 'Far Rockaway, NY', 103: 'Floral Park, NY', 104: 'Fluhing, NY', 105: 'Flush, NY', 106: 'Flushing , NY', 107: 'Flushing ,East Elmhurst , NY', 108: 'Flushing /Kew Gardens Hills, NY', 109: 'Flushing Queens, NY', 110: 'Flushing or east Elmhurst , NY', 111: 'Flushing, NY', 112: 'Forest Hill, NY', 113: 'Forest Hills , NY', 114: 'Forest Hills, NY', 115: 'Forest hills, NY', 116: 'Fort Greene, Brooklyn, NY', 117: 'Fresh Meadows , NY', 118: 'Fresh Meadows, NY', 119: 'Fresh meadows , NY', 120: 'Fresh meadows, NY', 121: 'Girdwood, AK', 122: 'Glendale , NY', 123: 'Glendale, NY', 124: 'Gravesend Brooklyn , NY', 125: 'Greenpoint , NY', 126: 'Greenpoint Brooklyn , NY', 127: 'Greenpoint, Brooklyn, NY', 128: 'Harlem, NY', 129: 'Hollis , NY', 130: 'Hollis, NY', 131: 'Howard Beach , NY', 132: 'Howard Beach, NY', 133: 'Jackson Heights , NY', 134: 'Jackson Heights, NY', 135: 'Jackson Heights, Queens , NY', 136: 'Jackson heights , NY', 137: 'Jackson heights, NY', 138: 'Jamaica , NY', 139: 'Jamaica Queens, NY', 140: 'Jamaica queens, NY', 141: 'Jamaica, NY', 142: 'Jamaica, Ny', 143: 'Kew Gardens , NY', 144: 'Kew Gardens, NY', 145: 'Kips Bay, NY', 146: 'LIC, NY', 147: 'LONG ISLAND CITY, NY', 148: 'Laurelton , NY', 149: 'Laurelton , Queens , NY', 150: 'Laurelton, NY', 151: 'Lawrence, NY', 152: 'Little neck, NY', 153: 'Long Island , NY', 154: 'Long Island CIty, NY', 155: 'Long Island City , NY', 156: 'Long Island City, NY', 157: 'Long Island City, Queens, NY', 158: 'Long Island city , NY', 159: 'Long Island city, NY', 160: 'Long Island, NY', 161: 'Long island city , NY', 162: 'Long island city, NY', 163: 'MIDDLE VILLAGE, NY', 164: 'Manhattan , NY', 165: 'Manhattan NY, NY', 166: 'Manhattan, NY', 167: 'Manhattan, New York, NY', 168: 'Maspeth , NY', 169: 'Maspeth, NY', 170: 'Middle Village, NY', 171: 'Middle village, NY', 172: 'Mott Haven, NY', 173: 'NEW YORK, NY', 174: 'NUEVA YORK, NY', 175: 'NY', 176: 'NY , NY', 177: 'NY, ', 178: 'NYC , NY', 179: 'NYC, NY', 180: 'Neponsit, NY', 181: 'New York , East Elmhurst , NY', 182: 'New York , NY', 183: 'New York , Ny', 184: 'New York - Astoria, NY', 185: 'New York - Sunnyside , NY', 186: 'New York City , NY', 187: 'New York City, NY', 188: 'New York East Elmhurst , NY', 189: 'New York city, NY', 190: 'New York, NY', 191: 'New York, US, NY', 192: 'New York,Manhattan , NY', 193: 'New york , NY', 194: 'New york, NY', 195: 'New-York, NY', 196: 'New-york, NY', 197: 'NewYork , NY', 198: 'NewYork, NY', 199: 'Newyork, NY', 200: 'Nova York, NY', 201: 'Nueva York, NY', 202: 'Ny, NY', 203: 'Oakland Gardens , NY', 204: 'Oakland Gardens, NY', 205: 'Ozon Park, NY', 206: 'Ozone Park, NY', 207: 'Ozone park, NY', 208: 'PECK SLIP, NY', 209: 'PRINCE, NY', 210: 'Park Slope, Brooklyn, NY', 211: 'Park slope , NY', 212: 'Parkchester , NY', 213: 'Pomona, CA', 214: 'Queens , NY', 215: 'Queens ,East Elmhurst ., NY', 216: 'Queens Astoria , NY', 217: 'Queens Astoria, NY', 218: 'Queens NY, NY', 219: 'Queens Village , NY', 220: 'Queens Village, NY', 221: 'Queens village , Ny', 222: 'Queens village, NY', 223: 'Queens, Astoria , NY', 224: 'Queens, Flushing , NY', 225: 'Queens, NY', 226: 'Queensvillage , NY', 227: 'Quenns , NY', 228: 'Red Hook, Brooklyn, NY', 229: 'Rego Park , NY', 230: 'Rego Park Queens, NY', 231: 'Rego Park, NY', 232: 'Regó park , NY', 233: 'Richmond Hill , NY', 234: 'Richmond Hill, Jamaica, Queens, NY', 235: 'Richmond Hill, NY', 236: 'Richmond hill, NY', 237: 'Ridgewood , NY', 238: 'Ridgewood Queens. , NY', 239: 'Ridgewood, NY', 240: 'Riverdale , NY', 241: 'Rockaway Beach , NY', 242: 'Rockaway Beach, NY', 243: 'Rockaway beach , NY', 244: 'Rockaway beach, NY', 245: 'Rosedale , NY', 246: 'Rosedale Jamaica, NY', 247: 'Rosedale, Jamaica, NY', 248: 'Rosedale, NY', 249: 'SUNNYSID, LONG ISLAND CITY, NY', 250: 'SUNNYSIDE, LONG ISLAND CITY, NY', 251: 'SUNNYSIDE, NY', 252: 'Saint Albans , NY', 253: 'Saint Albans(Queens), NY', 254: 'Saint Albans, NY', 255: 'South Ozone Park , NY', 256: 'South Ozone Park, NY', 257: 'South Richmond HIll, NY', 258: 'South Richmond Hill, NY', 259: 'South ozone park , NY', 260: 'Springfield Gardens , NY', 261: 'Springfield Gardens, NY', 262: 'Springfield gardens, NY', 263: 'Springfield, NY', 264: 'St Albans, NY', 265: 'St. Albans , NY', 266: 'St. Albans, NY', 267: 'Staten Island , NY', 268: 'Staten Island, NY', 269: 'Staten island , NY', 270: 'Staten zIsland, NY', 271: 'Sunnyside , NY', 272: 'Sunnyside Queens, NY', 273: 'Sunnyside, NY', 274: 'Sunnyside, Queens, NY', 275: 'The Bronx (Riverdale), NY', 276: 'The Bronx, NY', 277: 'US', 278: 'US, ', 279: 'Valley Stream, NY', 280: 'WOODSIDE , NY', 281: 'Whitestone, NY', 282: 'Williamsburg , NY', 283: 'Williamsburg Brooklyn, NY', 284: 'Williamsburg, Brooklyn , NY', 285: 'Williamsburg, Brooklyn, NY', 286: 'Williamsburg, NY', 287: 'Williamsburg,Brooklyn, NY', 288: 'Woodhaven , NY', 289: 'Woodhaven, NY', 290: 'Woodside , NY', 291: 'Woodside, NY', 292: 'Woodside, Queens , NY', 293: 'Woodside, Queens, NY', 294: 'Yonkers, NY', 295: 'astoria, NY', 296: 'bronx , NY', 297: 'bronx, NY', 298: 'brooklyn , NY', 299: 'brooklyn, NY', 300: 'elmhurst Queens, NY', 301: 'flushing , NY', 302: 'flushing, NY', 303: 'forest hills, NY', 304: 'forest hills/corona, NY', 305: 'jackson heights, NY', 306: 'long island city, NY', 307: 'new york, NY', 308: 'new york, ny', 309: 'newyork , ny', 310: 'nyc, NY', 311: 'ozone park queens , NY', 312: 'queens, NY', 313: 'richmond hill, NY', 314: 'west new york , NJ', 315: 'woodside, NY', 316: '纽约, NY', 317: '纽约市, NY', 318: '纽约法拉盛, NY'}\n",
            "{0: 'Apartment', 1: 'House', 2: 'Other'}\n",
            "{0: 'Entire home/apt', 1: 'Hotel room', 2: 'Private room', 3: 'Shared room'}\n",
            "{0: '0-79/100', 1: '80-94/100', 2: '95-100/100', 3: 'nan'}\n",
            "{0: '0-8/10', 1: '10/10', 2: '9/10', 3: 'nan'}\n",
            "{0: 'f', 1: 't'}\n",
            "{0: 'flexible', 1: 'moderate', 2: 'strict_14_with_grace_period'}\n"
          ],
          "name": "stdout"
        },
        {
          "output_type": "stream",
          "text": [
            "/usr/local/lib/python3.6/dist-packages/ipykernel_launcher.py:8: SettingWithCopyWarning: \n",
            "A value is trying to be set on a copy of a slice from a DataFrame.\n",
            "Try using .loc[row_indexer,col_indexer] = value instead\n",
            "\n",
            "See the caveats in the documentation: http://pandas.pydata.org/pandas-docs/stable/user_guide/indexing.html#returning-a-view-versus-a-copy\n",
            "  \n",
            "/usr/local/lib/python3.6/dist-packages/pandas/core/indexing.py:494: SettingWithCopyWarning: \n",
            "A value is trying to be set on a copy of a slice from a DataFrame.\n",
            "Try using .loc[row_indexer,col_indexer] = value instead\n",
            "\n",
            "See the caveats in the documentation: http://pandas.pydata.org/pandas-docs/stable/user_guide/indexing.html#returning-a-view-versus-a-copy\n",
            "  self.obj[item] = s\n",
            "/usr/local/lib/python3.6/dist-packages/ipykernel_launcher.py:16: SettingWithCopyWarning: \n",
            "A value is trying to be set on a copy of a slice from a DataFrame.\n",
            "Try using .loc[row_indexer,col_indexer] = value instead\n",
            "\n",
            "See the caveats in the documentation: http://pandas.pydata.org/pandas-docs/stable/user_guide/indexing.html#returning-a-view-versus-a-copy\n",
            "  app.launch_new_instance()\n",
            "/usr/local/lib/python3.6/dist-packages/ipykernel_launcher.py:22: SettingWithCopyWarning: \n",
            "A value is trying to be set on a copy of a slice from a DataFrame.\n",
            "Try using .loc[row_indexer,col_indexer] = value instead\n",
            "\n",
            "See the caveats in the documentation: http://pandas.pydata.org/pandas-docs/stable/user_guide/indexing.html#returning-a-view-versus-a-copy\n",
            "/usr/local/lib/python3.6/dist-packages/ipykernel_launcher.py:30: SettingWithCopyWarning: \n",
            "A value is trying to be set on a copy of a slice from a DataFrame.\n",
            "Try using .loc[row_indexer,col_indexer] = value instead\n",
            "\n",
            "See the caveats in the documentation: http://pandas.pydata.org/pandas-docs/stable/user_guide/indexing.html#returning-a-view-versus-a-copy\n",
            "/usr/local/lib/python3.6/dist-packages/ipykernel_launcher.py:36: SettingWithCopyWarning: \n",
            "A value is trying to be set on a copy of a slice from a DataFrame.\n",
            "Try using .loc[row_indexer,col_indexer] = value instead\n",
            "\n",
            "See the caveats in the documentation: http://pandas.pydata.org/pandas-docs/stable/user_guide/indexing.html#returning-a-view-versus-a-copy\n",
            "/usr/local/lib/python3.6/dist-packages/ipykernel_launcher.py:42: SettingWithCopyWarning: \n",
            "A value is trying to be set on a copy of a slice from a DataFrame.\n",
            "Try using .loc[row_indexer,col_indexer] = value instead\n",
            "\n",
            "See the caveats in the documentation: http://pandas.pydata.org/pandas-docs/stable/user_guide/indexing.html#returning-a-view-versus-a-copy\n",
            "/usr/local/lib/python3.6/dist-packages/ipykernel_launcher.py:49: SettingWithCopyWarning: \n",
            "A value is trying to be set on a copy of a slice from a DataFrame.\n",
            "Try using .loc[row_indexer,col_indexer] = value instead\n",
            "\n",
            "See the caveats in the documentation: http://pandas.pydata.org/pandas-docs/stable/user_guide/indexing.html#returning-a-view-versus-a-copy\n",
            "/usr/local/lib/python3.6/dist-packages/ipykernel_launcher.py:56: SettingWithCopyWarning: \n",
            "A value is trying to be set on a copy of a slice from a DataFrame.\n",
            "Try using .loc[row_indexer,col_indexer] = value instead\n",
            "\n",
            "See the caveats in the documentation: http://pandas.pydata.org/pandas-docs/stable/user_guide/indexing.html#returning-a-view-versus-a-copy\n",
            "/usr/local/lib/python3.6/dist-packages/ipykernel_launcher.py:62: SettingWithCopyWarning: \n",
            "A value is trying to be set on a copy of a slice from a DataFrame.\n",
            "Try using .loc[row_indexer,col_indexer] = value instead\n",
            "\n",
            "See the caveats in the documentation: http://pandas.pydata.org/pandas-docs/stable/user_guide/indexing.html#returning-a-view-versus-a-copy\n",
            "/usr/local/lib/python3.6/dist-packages/ipykernel_launcher.py:68: SettingWithCopyWarning: \n",
            "A value is trying to be set on a copy of a slice from a DataFrame.\n",
            "Try using .loc[row_indexer,col_indexer] = value instead\n",
            "\n",
            "See the caveats in the documentation: http://pandas.pydata.org/pandas-docs/stable/user_guide/indexing.html#returning-a-view-versus-a-copy\n"
          ],
          "name": "stderr"
        }
      ]
    },
    {
      "cell_type": "code",
      "metadata": {
        "id": "BXYX-VCaYf6p",
        "colab_type": "code",
        "outputId": "0ec29cb6-015a-436e-ce0e-56ab4485197f",
        "colab": {
          "base_uri": "https://localhost:8080/",
          "height": 202
        }
      },
      "source": [
        "X['host_listings_count'].fillna((X['host_listings_count'].median()), inplace=True)\n",
        "X[['host_is_superhost','host_identity_verified']] = X[['host_is_superhost','host_identity_verified']].fillna(0)"
      ],
      "execution_count": 89,
      "outputs": [
        {
          "output_type": "stream",
          "text": [
            "/usr/local/lib/python3.6/dist-packages/pandas/core/generic.py:6287: SettingWithCopyWarning: \n",
            "A value is trying to be set on a copy of a slice from a DataFrame\n",
            "\n",
            "See the caveats in the documentation: http://pandas.pydata.org/pandas-docs/stable/user_guide/indexing.html#returning-a-view-versus-a-copy\n",
            "  self._update_inplace(new_data)\n",
            "/usr/local/lib/python3.6/dist-packages/pandas/core/frame.py:3509: SettingWithCopyWarning: \n",
            "A value is trying to be set on a copy of a slice from a DataFrame.\n",
            "Try using .loc[row_indexer,col_indexer] = value instead\n",
            "\n",
            "See the caveats in the documentation: http://pandas.pydata.org/pandas-docs/stable/user_guide/indexing.html#returning-a-view-versus-a-copy\n",
            "  self[k1] = value[k2]\n"
          ],
          "name": "stderr"
        }
      ]
    },
    {
      "cell_type": "code",
      "metadata": {
        "id": "yTR7tVA8bTGi",
        "colab_type": "code",
        "outputId": "9a4c3fc3-8461-4240-a686-02549e85a966",
        "colab": {
          "base_uri": "https://localhost:8080/",
          "height": 422
        }
      },
      "source": [
        "X"
      ],
      "execution_count": 90,
      "outputs": [
        {
          "output_type": "execute_result",
          "data": {
            "text/html": [
              "<div>\n",
              "<style scoped>\n",
              "    .dataframe tbody tr th:only-of-type {\n",
              "        vertical-align: middle;\n",
              "    }\n",
              "\n",
              "    .dataframe tbody tr th {\n",
              "        vertical-align: top;\n",
              "    }\n",
              "\n",
              "    .dataframe thead th {\n",
              "        text-align: right;\n",
              "    }\n",
              "</style>\n",
              "<table border=\"1\" class=\"dataframe\">\n",
              "  <thead>\n",
              "    <tr style=\"text-align: right;\">\n",
              "      <th></th>\n",
              "      <th>id</th>\n",
              "      <th>host_response_rate</th>\n",
              "      <th>host_is_superhost</th>\n",
              "      <th>host_listings_count</th>\n",
              "      <th>host_identity_verified</th>\n",
              "      <th>neighbourhood_cleansed</th>\n",
              "      <th>neighbourhood_group_cleansed</th>\n",
              "      <th>smart_location</th>\n",
              "      <th>property_type</th>\n",
              "      <th>room_type</th>\n",
              "      <th>accommodates</th>\n",
              "      <th>bathrooms</th>\n",
              "      <th>bedrooms</th>\n",
              "      <th>beds</th>\n",
              "      <th>security_deposit</th>\n",
              "      <th>cleaning_fee</th>\n",
              "      <th>guests_included</th>\n",
              "      <th>extra_people</th>\n",
              "      <th>minimum_nights</th>\n",
              "      <th>maximum_nights</th>\n",
              "      <th>availability_365</th>\n",
              "      <th>number_of_reviews</th>\n",
              "      <th>review_scores_rating</th>\n",
              "      <th>review_scores_value</th>\n",
              "      <th>instant_bookable</th>\n",
              "      <th>cancellation_policy</th>\n",
              "      <th>check_in_24h</th>\n",
              "      <th>air_conditioning</th>\n",
              "      <th>balcony</th>\n",
              "      <th>bed_linen</th>\n",
              "      <th>breakfast</th>\n",
              "      <th>tv</th>\n",
              "      <th>coffee_machine</th>\n",
              "      <th>cooking_basics</th>\n",
              "      <th>Smoked_detection</th>\n",
              "      <th>parking</th>\n",
              "      <th>Bathroom_amenities</th>\n",
              "      <th>child_friendly</th>\n",
              "      <th>Laundry</th>\n",
              "      <th>elevator</th>\n",
              "      <th>gym</th>\n",
              "      <th>outdoor_space</th>\n",
              "      <th>host_greeting</th>\n",
              "      <th>long_term_stays</th>\n",
              "      <th>pets_allowed</th>\n",
              "      <th>private_entrance</th>\n",
              "      <th>secure</th>\n",
              "      <th>self_check_in</th>\n",
              "      <th>Heating</th>\n",
              "      <th>accessible</th>\n",
              "      <th>well_lit_entrance</th>\n",
              "      <th>essentials</th>\n",
              "    </tr>\n",
              "  </thead>\n",
              "  <tbody>\n",
              "    <tr>\n",
              "      <th>0</th>\n",
              "      <td>3647</td>\n",
              "      <td>0</td>\n",
              "      <td>0.0</td>\n",
              "      <td>1.0</td>\n",
              "      <td>1.0</td>\n",
              "      <td>97</td>\n",
              "      <td>97</td>\n",
              "      <td>190</td>\n",
              "      <td>0</td>\n",
              "      <td>2</td>\n",
              "      <td>2</td>\n",
              "      <td>1.0</td>\n",
              "      <td>1.0</td>\n",
              "      <td>1.0</td>\n",
              "      <td>200</td>\n",
              "      <td>75</td>\n",
              "      <td>2</td>\n",
              "      <td>20</td>\n",
              "      <td>3</td>\n",
              "      <td>7</td>\n",
              "      <td>365</td>\n",
              "      <td>0</td>\n",
              "      <td>3</td>\n",
              "      <td>3</td>\n",
              "      <td>0</td>\n",
              "      <td>2</td>\n",
              "      <td>0.0</td>\n",
              "      <td>1.0</td>\n",
              "      <td>0.0</td>\n",
              "      <td>0.0</td>\n",
              "      <td>0.0</td>\n",
              "      <td>1.0</td>\n",
              "      <td>0.0</td>\n",
              "      <td>1.0</td>\n",
              "      <td>1.0</td>\n",
              "      <td>0.0</td>\n",
              "      <td>0.0</td>\n",
              "      <td>0.0</td>\n",
              "      <td>0.0</td>\n",
              "      <td>0.0</td>\n",
              "      <td>0.0</td>\n",
              "      <td>0.0</td>\n",
              "      <td>0.0</td>\n",
              "      <td>0.0</td>\n",
              "      <td>0.0</td>\n",
              "      <td>0.0</td>\n",
              "      <td>1.0</td>\n",
              "      <td>0.0</td>\n",
              "      <td>1.0</td>\n",
              "      <td>0.0</td>\n",
              "      <td>0.0</td>\n",
              "      <td>0.0</td>\n",
              "    </tr>\n",
              "    <tr>\n",
              "      <th>1</th>\n",
              "      <td>3831</td>\n",
              "      <td>3</td>\n",
              "      <td>0.0</td>\n",
              "      <td>1.0</td>\n",
              "      <td>1.0</td>\n",
              "      <td>42</td>\n",
              "      <td>42</td>\n",
              "      <td>57</td>\n",
              "      <td>0</td>\n",
              "      <td>0</td>\n",
              "      <td>3</td>\n",
              "      <td>1.0</td>\n",
              "      <td>1.0</td>\n",
              "      <td>4.0</td>\n",
              "      <td>500</td>\n",
              "      <td>0</td>\n",
              "      <td>1</td>\n",
              "      <td>0</td>\n",
              "      <td>1</td>\n",
              "      <td>730</td>\n",
              "      <td>192</td>\n",
              "      <td>279</td>\n",
              "      <td>1</td>\n",
              "      <td>2</td>\n",
              "      <td>0</td>\n",
              "      <td>1</td>\n",
              "      <td>1.0</td>\n",
              "      <td>1.0</td>\n",
              "      <td>0.0</td>\n",
              "      <td>0.0</td>\n",
              "      <td>0.0</td>\n",
              "      <td>1.0</td>\n",
              "      <td>1.0</td>\n",
              "      <td>1.0</td>\n",
              "      <td>1.0</td>\n",
              "      <td>1.0</td>\n",
              "      <td>1.0</td>\n",
              "      <td>1.0</td>\n",
              "      <td>0.0</td>\n",
              "      <td>0.0</td>\n",
              "      <td>0.0</td>\n",
              "      <td>0.0</td>\n",
              "      <td>0.0</td>\n",
              "      <td>1.0</td>\n",
              "      <td>1.0</td>\n",
              "      <td>0.0</td>\n",
              "      <td>1.0</td>\n",
              "      <td>1.0</td>\n",
              "      <td>1.0</td>\n",
              "      <td>0.0</td>\n",
              "      <td>0.0</td>\n",
              "      <td>1.0</td>\n",
              "    </tr>\n",
              "    <tr>\n",
              "      <th>2</th>\n",
              "      <td>5022</td>\n",
              "      <td>4</td>\n",
              "      <td>0.0</td>\n",
              "      <td>1.0</td>\n",
              "      <td>1.0</td>\n",
              "      <td>63</td>\n",
              "      <td>63</td>\n",
              "      <td>190</td>\n",
              "      <td>0</td>\n",
              "      <td>0</td>\n",
              "      <td>1</td>\n",
              "      <td>1.0</td>\n",
              "      <td>1.0</td>\n",
              "      <td>1.0</td>\n",
              "      <td>100</td>\n",
              "      <td>80</td>\n",
              "      <td>1</td>\n",
              "      <td>20</td>\n",
              "      <td>10</td>\n",
              "      <td>120</td>\n",
              "      <td>0</td>\n",
              "      <td>9</td>\n",
              "      <td>1</td>\n",
              "      <td>1</td>\n",
              "      <td>0</td>\n",
              "      <td>2</td>\n",
              "      <td>0.0</td>\n",
              "      <td>1.0</td>\n",
              "      <td>0.0</td>\n",
              "      <td>0.0</td>\n",
              "      <td>0.0</td>\n",
              "      <td>0.0</td>\n",
              "      <td>0.0</td>\n",
              "      <td>1.0</td>\n",
              "      <td>1.0</td>\n",
              "      <td>1.0</td>\n",
              "      <td>1.0</td>\n",
              "      <td>0.0</td>\n",
              "      <td>1.0</td>\n",
              "      <td>1.0</td>\n",
              "      <td>0.0</td>\n",
              "      <td>0.0</td>\n",
              "      <td>1.0</td>\n",
              "      <td>0.0</td>\n",
              "      <td>0.0</td>\n",
              "      <td>0.0</td>\n",
              "      <td>1.0</td>\n",
              "      <td>0.0</td>\n",
              "      <td>1.0</td>\n",
              "      <td>0.0</td>\n",
              "      <td>0.0</td>\n",
              "      <td>1.0</td>\n",
              "    </tr>\n",
              "    <tr>\n",
              "      <th>3</th>\n",
              "      <td>5099</td>\n",
              "      <td>2</td>\n",
              "      <td>0.0</td>\n",
              "      <td>1.0</td>\n",
              "      <td>0.0</td>\n",
              "      <td>140</td>\n",
              "      <td>140</td>\n",
              "      <td>190</td>\n",
              "      <td>0</td>\n",
              "      <td>0</td>\n",
              "      <td>2</td>\n",
              "      <td>1.0</td>\n",
              "      <td>1.0</td>\n",
              "      <td>1.0</td>\n",
              "      <td>300</td>\n",
              "      <td>125</td>\n",
              "      <td>2</td>\n",
              "      <td>100</td>\n",
              "      <td>3</td>\n",
              "      <td>21</td>\n",
              "      <td>13</td>\n",
              "      <td>75</td>\n",
              "      <td>1</td>\n",
              "      <td>2</td>\n",
              "      <td>0</td>\n",
              "      <td>1</td>\n",
              "      <td>0.0</td>\n",
              "      <td>0.0</td>\n",
              "      <td>0.0</td>\n",
              "      <td>1.0</td>\n",
              "      <td>0.0</td>\n",
              "      <td>1.0</td>\n",
              "      <td>0.0</td>\n",
              "      <td>1.0</td>\n",
              "      <td>1.0</td>\n",
              "      <td>0.0</td>\n",
              "      <td>1.0</td>\n",
              "      <td>0.0</td>\n",
              "      <td>0.0</td>\n",
              "      <td>0.0</td>\n",
              "      <td>0.0</td>\n",
              "      <td>0.0</td>\n",
              "      <td>1.0</td>\n",
              "      <td>0.0</td>\n",
              "      <td>0.0</td>\n",
              "      <td>0.0</td>\n",
              "      <td>1.0</td>\n",
              "      <td>0.0</td>\n",
              "      <td>1.0</td>\n",
              "      <td>0.0</td>\n",
              "      <td>0.0</td>\n",
              "      <td>1.0</td>\n",
              "    </tr>\n",
              "    <tr>\n",
              "      <th>4</th>\n",
              "      <td>5121</td>\n",
              "      <td>0</td>\n",
              "      <td>0.0</td>\n",
              "      <td>1.0</td>\n",
              "      <td>0.0</td>\n",
              "      <td>13</td>\n",
              "      <td>13</td>\n",
              "      <td>57</td>\n",
              "      <td>0</td>\n",
              "      <td>2</td>\n",
              "      <td>2</td>\n",
              "      <td>1.0</td>\n",
              "      <td>1.0</td>\n",
              "      <td>1.0</td>\n",
              "      <td>450</td>\n",
              "      <td>0</td>\n",
              "      <td>1</td>\n",
              "      <td>30</td>\n",
              "      <td>45</td>\n",
              "      <td>730</td>\n",
              "      <td>0</td>\n",
              "      <td>49</td>\n",
              "      <td>1</td>\n",
              "      <td>2</td>\n",
              "      <td>0</td>\n",
              "      <td>2</td>\n",
              "      <td>0.0</td>\n",
              "      <td>1.0</td>\n",
              "      <td>0.0</td>\n",
              "      <td>0.0</td>\n",
              "      <td>0.0</td>\n",
              "      <td>0.0</td>\n",
              "      <td>0.0</td>\n",
              "      <td>1.0</td>\n",
              "      <td>0.0</td>\n",
              "      <td>0.0</td>\n",
              "      <td>0.0</td>\n",
              "      <td>0.0</td>\n",
              "      <td>0.0</td>\n",
              "      <td>0.0</td>\n",
              "      <td>0.0</td>\n",
              "      <td>0.0</td>\n",
              "      <td>0.0</td>\n",
              "      <td>0.0</td>\n",
              "      <td>1.0</td>\n",
              "      <td>0.0</td>\n",
              "      <td>0.0</td>\n",
              "      <td>0.0</td>\n",
              "      <td>1.0</td>\n",
              "      <td>0.0</td>\n",
              "      <td>0.0</td>\n",
              "      <td>0.0</td>\n",
              "    </tr>\n",
              "    <tr>\n",
              "      <th>...</th>\n",
              "      <td>...</td>\n",
              "      <td>...</td>\n",
              "      <td>...</td>\n",
              "      <td>...</td>\n",
              "      <td>...</td>\n",
              "      <td>...</td>\n",
              "      <td>...</td>\n",
              "      <td>...</td>\n",
              "      <td>...</td>\n",
              "      <td>...</td>\n",
              "      <td>...</td>\n",
              "      <td>...</td>\n",
              "      <td>...</td>\n",
              "      <td>...</td>\n",
              "      <td>...</td>\n",
              "      <td>...</td>\n",
              "      <td>...</td>\n",
              "      <td>...</td>\n",
              "      <td>...</td>\n",
              "      <td>...</td>\n",
              "      <td>...</td>\n",
              "      <td>...</td>\n",
              "      <td>...</td>\n",
              "      <td>...</td>\n",
              "      <td>...</td>\n",
              "      <td>...</td>\n",
              "      <td>...</td>\n",
              "      <td>...</td>\n",
              "      <td>...</td>\n",
              "      <td>...</td>\n",
              "      <td>...</td>\n",
              "      <td>...</td>\n",
              "      <td>...</td>\n",
              "      <td>...</td>\n",
              "      <td>...</td>\n",
              "      <td>...</td>\n",
              "      <td>...</td>\n",
              "      <td>...</td>\n",
              "      <td>...</td>\n",
              "      <td>...</td>\n",
              "      <td>...</td>\n",
              "      <td>...</td>\n",
              "      <td>...</td>\n",
              "      <td>...</td>\n",
              "      <td>...</td>\n",
              "      <td>...</td>\n",
              "      <td>...</td>\n",
              "      <td>...</td>\n",
              "      <td>...</td>\n",
              "      <td>...</td>\n",
              "      <td>...</td>\n",
              "      <td>...</td>\n",
              "    </tr>\n",
              "    <tr>\n",
              "      <th>48372</th>\n",
              "      <td>38564068</td>\n",
              "      <td>1</td>\n",
              "      <td>0.0</td>\n",
              "      <td>0.0</td>\n",
              "      <td>0.0</td>\n",
              "      <td>54</td>\n",
              "      <td>54</td>\n",
              "      <td>57</td>\n",
              "      <td>0</td>\n",
              "      <td>0</td>\n",
              "      <td>7</td>\n",
              "      <td>2.0</td>\n",
              "      <td>3.0</td>\n",
              "      <td>4.0</td>\n",
              "      <td>100</td>\n",
              "      <td>100</td>\n",
              "      <td>4</td>\n",
              "      <td>50</td>\n",
              "      <td>2</td>\n",
              "      <td>10</td>\n",
              "      <td>42</td>\n",
              "      <td>0</td>\n",
              "      <td>3</td>\n",
              "      <td>3</td>\n",
              "      <td>0</td>\n",
              "      <td>2</td>\n",
              "      <td>0.0</td>\n",
              "      <td>0.0</td>\n",
              "      <td>0.0</td>\n",
              "      <td>0.0</td>\n",
              "      <td>0.0</td>\n",
              "      <td>0.0</td>\n",
              "      <td>0.0</td>\n",
              "      <td>1.0</td>\n",
              "      <td>1.0</td>\n",
              "      <td>0.0</td>\n",
              "      <td>0.0</td>\n",
              "      <td>0.0</td>\n",
              "      <td>0.0</td>\n",
              "      <td>0.0</td>\n",
              "      <td>0.0</td>\n",
              "      <td>0.0</td>\n",
              "      <td>0.0</td>\n",
              "      <td>0.0</td>\n",
              "      <td>0.0</td>\n",
              "      <td>1.0</td>\n",
              "      <td>0.0</td>\n",
              "      <td>0.0</td>\n",
              "      <td>0.0</td>\n",
              "      <td>0.0</td>\n",
              "      <td>0.0</td>\n",
              "      <td>1.0</td>\n",
              "    </tr>\n",
              "    <tr>\n",
              "      <th>48373</th>\n",
              "      <td>38564524</td>\n",
              "      <td>4</td>\n",
              "      <td>0.0</td>\n",
              "      <td>0.0</td>\n",
              "      <td>0.0</td>\n",
              "      <td>204</td>\n",
              "      <td>204</td>\n",
              "      <td>190</td>\n",
              "      <td>0</td>\n",
              "      <td>0</td>\n",
              "      <td>2</td>\n",
              "      <td>1.0</td>\n",
              "      <td>0.0</td>\n",
              "      <td>1.0</td>\n",
              "      <td>5000</td>\n",
              "      <td>300</td>\n",
              "      <td>1</td>\n",
              "      <td>0</td>\n",
              "      <td>30</td>\n",
              "      <td>1125</td>\n",
              "      <td>263</td>\n",
              "      <td>0</td>\n",
              "      <td>3</td>\n",
              "      <td>3</td>\n",
              "      <td>1</td>\n",
              "      <td>1</td>\n",
              "      <td>0.0</td>\n",
              "      <td>1.0</td>\n",
              "      <td>0.0</td>\n",
              "      <td>0.0</td>\n",
              "      <td>0.0</td>\n",
              "      <td>1.0</td>\n",
              "      <td>0.0</td>\n",
              "      <td>0.0</td>\n",
              "      <td>1.0</td>\n",
              "      <td>0.0</td>\n",
              "      <td>0.0</td>\n",
              "      <td>0.0</td>\n",
              "      <td>1.0</td>\n",
              "      <td>1.0</td>\n",
              "      <td>0.0</td>\n",
              "      <td>0.0</td>\n",
              "      <td>0.0</td>\n",
              "      <td>0.0</td>\n",
              "      <td>0.0</td>\n",
              "      <td>1.0</td>\n",
              "      <td>0.0</td>\n",
              "      <td>0.0</td>\n",
              "      <td>1.0</td>\n",
              "      <td>0.0</td>\n",
              "      <td>0.0</td>\n",
              "      <td>1.0</td>\n",
              "    </tr>\n",
              "    <tr>\n",
              "      <th>48374</th>\n",
              "      <td>38566777</td>\n",
              "      <td>4</td>\n",
              "      <td>0.0</td>\n",
              "      <td>1.0</td>\n",
              "      <td>0.0</td>\n",
              "      <td>28</td>\n",
              "      <td>28</td>\n",
              "      <td>46</td>\n",
              "      <td>0</td>\n",
              "      <td>2</td>\n",
              "      <td>1</td>\n",
              "      <td>1.0</td>\n",
              "      <td>1.0</td>\n",
              "      <td>1.0</td>\n",
              "      <td>0</td>\n",
              "      <td>0</td>\n",
              "      <td>1</td>\n",
              "      <td>0</td>\n",
              "      <td>30</td>\n",
              "      <td>1125</td>\n",
              "      <td>66</td>\n",
              "      <td>0</td>\n",
              "      <td>3</td>\n",
              "      <td>3</td>\n",
              "      <td>0</td>\n",
              "      <td>0</td>\n",
              "      <td>0.0</td>\n",
              "      <td>1.0</td>\n",
              "      <td>0.0</td>\n",
              "      <td>0.0</td>\n",
              "      <td>0.0</td>\n",
              "      <td>0.0</td>\n",
              "      <td>0.0</td>\n",
              "      <td>1.0</td>\n",
              "      <td>1.0</td>\n",
              "      <td>0.0</td>\n",
              "      <td>0.0</td>\n",
              "      <td>0.0</td>\n",
              "      <td>1.0</td>\n",
              "      <td>1.0</td>\n",
              "      <td>1.0</td>\n",
              "      <td>0.0</td>\n",
              "      <td>0.0</td>\n",
              "      <td>0.0</td>\n",
              "      <td>0.0</td>\n",
              "      <td>0.0</td>\n",
              "      <td>0.0</td>\n",
              "      <td>0.0</td>\n",
              "      <td>1.0</td>\n",
              "      <td>0.0</td>\n",
              "      <td>0.0</td>\n",
              "      <td>1.0</td>\n",
              "    </tr>\n",
              "    <tr>\n",
              "      <th>48375</th>\n",
              "      <td>38567542</td>\n",
              "      <td>1</td>\n",
              "      <td>0.0</td>\n",
              "      <td>10.0</td>\n",
              "      <td>0.0</td>\n",
              "      <td>53</td>\n",
              "      <td>53</td>\n",
              "      <td>57</td>\n",
              "      <td>1</td>\n",
              "      <td>2</td>\n",
              "      <td>4</td>\n",
              "      <td>3.0</td>\n",
              "      <td>1.0</td>\n",
              "      <td>1.0</td>\n",
              "      <td>0</td>\n",
              "      <td>39</td>\n",
              "      <td>1</td>\n",
              "      <td>15</td>\n",
              "      <td>1</td>\n",
              "      <td>365</td>\n",
              "      <td>322</td>\n",
              "      <td>0</td>\n",
              "      <td>3</td>\n",
              "      <td>3</td>\n",
              "      <td>0</td>\n",
              "      <td>2</td>\n",
              "      <td>0.0</td>\n",
              "      <td>1.0</td>\n",
              "      <td>0.0</td>\n",
              "      <td>1.0</td>\n",
              "      <td>0.0</td>\n",
              "      <td>0.0</td>\n",
              "      <td>1.0</td>\n",
              "      <td>1.0</td>\n",
              "      <td>1.0</td>\n",
              "      <td>1.0</td>\n",
              "      <td>1.0</td>\n",
              "      <td>0.0</td>\n",
              "      <td>0.0</td>\n",
              "      <td>0.0</td>\n",
              "      <td>0.0</td>\n",
              "      <td>0.0</td>\n",
              "      <td>0.0</td>\n",
              "      <td>0.0</td>\n",
              "      <td>0.0</td>\n",
              "      <td>0.0</td>\n",
              "      <td>1.0</td>\n",
              "      <td>1.0</td>\n",
              "      <td>1.0</td>\n",
              "      <td>0.0</td>\n",
              "      <td>0.0</td>\n",
              "      <td>1.0</td>\n",
              "    </tr>\n",
              "    <tr>\n",
              "      <th>48376</th>\n",
              "      <td>38568081</td>\n",
              "      <td>4</td>\n",
              "      <td>0.0</td>\n",
              "      <td>1.0</td>\n",
              "      <td>0.0</td>\n",
              "      <td>73</td>\n",
              "      <td>73</td>\n",
              "      <td>101</td>\n",
              "      <td>1</td>\n",
              "      <td>2</td>\n",
              "      <td>2</td>\n",
              "      <td>1.0</td>\n",
              "      <td>1.0</td>\n",
              "      <td>1.0</td>\n",
              "      <td>0</td>\n",
              "      <td>0</td>\n",
              "      <td>1</td>\n",
              "      <td>0</td>\n",
              "      <td>3</td>\n",
              "      <td>30</td>\n",
              "      <td>173</td>\n",
              "      <td>0</td>\n",
              "      <td>3</td>\n",
              "      <td>3</td>\n",
              "      <td>1</td>\n",
              "      <td>0</td>\n",
              "      <td>0.0</td>\n",
              "      <td>0.0</td>\n",
              "      <td>0.0</td>\n",
              "      <td>0.0</td>\n",
              "      <td>0.0</td>\n",
              "      <td>1.0</td>\n",
              "      <td>0.0</td>\n",
              "      <td>1.0</td>\n",
              "      <td>1.0</td>\n",
              "      <td>0.0</td>\n",
              "      <td>0.0</td>\n",
              "      <td>0.0</td>\n",
              "      <td>0.0</td>\n",
              "      <td>0.0</td>\n",
              "      <td>1.0</td>\n",
              "      <td>0.0</td>\n",
              "      <td>0.0</td>\n",
              "      <td>0.0</td>\n",
              "      <td>0.0</td>\n",
              "      <td>0.0</td>\n",
              "      <td>1.0</td>\n",
              "      <td>0.0</td>\n",
              "      <td>1.0</td>\n",
              "      <td>0.0</td>\n",
              "      <td>0.0</td>\n",
              "      <td>1.0</td>\n",
              "    </tr>\n",
              "  </tbody>\n",
              "</table>\n",
              "<p>48377 rows × 52 columns</p>\n",
              "</div>"
            ],
            "text/plain": [
              "             id  host_response_rate  ...  well_lit_entrance  essentials\n",
              "0          3647                   0  ...                0.0         0.0\n",
              "1          3831                   3  ...                0.0         1.0\n",
              "2          5022                   4  ...                0.0         1.0\n",
              "3          5099                   2  ...                0.0         1.0\n",
              "4          5121                   0  ...                0.0         0.0\n",
              "...         ...                 ...  ...                ...         ...\n",
              "48372  38564068                   1  ...                0.0         1.0\n",
              "48373  38564524                   4  ...                0.0         1.0\n",
              "48374  38566777                   4  ...                0.0         1.0\n",
              "48375  38567542                   1  ...                0.0         1.0\n",
              "48376  38568081                   4  ...                0.0         1.0\n",
              "\n",
              "[48377 rows x 52 columns]"
            ]
          },
          "metadata": {
            "tags": []
          },
          "execution_count": 90
        }
      ]
    },
    {
      "cell_type": "code",
      "metadata": {
        "id": "lU7_bRf7Yf0V",
        "colab_type": "code",
        "outputId": "200c6866-a215-41c0-d99f-4a9ad8eb5fbb",
        "colab": {
          "base_uri": "https://localhost:8080/",
          "height": 907
        }
      },
      "source": [
        "#X.isna().sum()\n",
        "(X < 0).any()"
      ],
      "execution_count": 91,
      "outputs": [
        {
          "output_type": "execute_result",
          "data": {
            "text/plain": [
              "id                              False\n",
              "host_response_rate              False\n",
              "host_is_superhost               False\n",
              "host_listings_count             False\n",
              "host_identity_verified          False\n",
              "neighbourhood_cleansed          False\n",
              "neighbourhood_group_cleansed    False\n",
              "smart_location                  False\n",
              "property_type                   False\n",
              "room_type                       False\n",
              "accommodates                    False\n",
              "bathrooms                       False\n",
              "bedrooms                        False\n",
              "beds                            False\n",
              "security_deposit                False\n",
              "cleaning_fee                    False\n",
              "guests_included                 False\n",
              "extra_people                    False\n",
              "minimum_nights                  False\n",
              "maximum_nights                  False\n",
              "availability_365                False\n",
              "number_of_reviews               False\n",
              "review_scores_rating            False\n",
              "review_scores_value             False\n",
              "instant_bookable                False\n",
              "cancellation_policy             False\n",
              "check_in_24h                    False\n",
              "air_conditioning                False\n",
              "balcony                         False\n",
              "bed_linen                       False\n",
              "breakfast                       False\n",
              "tv                              False\n",
              "coffee_machine                  False\n",
              "cooking_basics                  False\n",
              "Smoked_detection                False\n",
              "parking                         False\n",
              "Bathroom_amenities              False\n",
              "child_friendly                  False\n",
              "Laundry                         False\n",
              "elevator                        False\n",
              "gym                             False\n",
              "outdoor_space                   False\n",
              "host_greeting                   False\n",
              "long_term_stays                 False\n",
              "pets_allowed                    False\n",
              "private_entrance                False\n",
              "secure                          False\n",
              "self_check_in                   False\n",
              "Heating                         False\n",
              "accessible                      False\n",
              "well_lit_entrance               False\n",
              "essentials                      False\n",
              "dtype: bool"
            ]
          },
          "metadata": {
            "tags": []
          },
          "execution_count": 91
        }
      ]
    },
    {
      "cell_type": "code",
      "metadata": {
        "id": "J6wx3K62OMZR",
        "colab_type": "code",
        "outputId": "030a9303-60b8-4e47-dc15-871c131f06d4",
        "colab": {
          "base_uri": "https://localhost:8080/",
          "height": 538
        }
      },
      "source": [
        "3#apply SelectKBest class to extract top 10 best features\n",
        "bestfeatures = SelectKBest(score_func=chi2, k=10)\n",
        "fit = bestfeatures.fit(X,y)\n",
        "dfscores = pd.DataFrame(fit.scores_)\n",
        "dfcolumns = pd.DataFrame(X.columns)\n",
        "#concat two dataframes for better visualization \n",
        "featureScores = pd.concat([dfcolumns,dfscores],axis=1)\n",
        "featureScores.columns = ['Specs','Score']  #naming the dataframe columns\n",
        "print(featureScores.nlargest(30,'Score'))  #print 10 best features"
      ],
      "execution_count": 92,
      "outputs": [
        {
          "output_type": "stream",
          "text": [
            "                           Specs         Score\n",
            "19                maximum_nights  1.624981e+11\n",
            "0                             id  1.195665e+10\n",
            "3            host_listings_count  8.654010e+06\n",
            "14              security_deposit  5.103584e+06\n",
            "15                  cleaning_fee  9.210927e+05\n",
            "20              availability_365  4.060025e+05\n",
            "18                minimum_nights  1.292611e+05\n",
            "21             number_of_reviews  1.269285e+05\n",
            "7                 smart_location  8.733275e+04\n",
            "17                  extra_people  8.099309e+04\n",
            "5         neighbourhood_cleansed  7.499087e+04\n",
            "6   neighbourhood_group_cleansed  7.499087e+04\n",
            "9                      room_type  2.645502e+04\n",
            "10                  accommodates  2.226499e+04\n",
            "13                          beds  9.853626e+03\n",
            "16               guests_included  7.203438e+03\n",
            "12                      bedrooms  5.394490e+03\n",
            "40                           gym  4.733405e+03\n",
            "8                  property_type  2.969930e+03\n",
            "37                child_friendly  2.768070e+03\n",
            "39                      elevator  2.749156e+03\n",
            "43               long_term_stays  2.166283e+03\n",
            "38                       Laundry  1.831959e+03\n",
            "45              private_entrance  1.801308e+03\n",
            "11                     bathrooms  1.690558e+03\n",
            "47                 self_check_in  1.622945e+03\n",
            "32                coffee_machine  1.582479e+03\n",
            "25           cancellation_policy  1.554203e+03\n",
            "26                  check_in_24h  1.541434e+03\n",
            "31                            tv  1.464813e+03\n"
          ],
          "name": "stdout"
        }
      ]
    },
    {
      "cell_type": "code",
      "metadata": {
        "id": "EcK3VCjIPw2h",
        "colab_type": "code",
        "colab": {}
      },
      "source": [
        "from sklearn.ensemble import ExtraTreesClassifier\n",
        "import matplotlib.pyplot as plt\n",
        "model = ExtraTreesClassifier()\n",
        "model.fit(X,y)\n",
        "print(model.feature_importances_) #use inbuilt class feature_importances of tree based classifiers\n",
        "#plot graph of feature importances for better visualization\n",
        "feat_importances = pd.Series(model.feature_importances_, index=X.columns)\n",
        "feat_importances.nlargest(30).plot(kind='barh')\n",
        "print(feat_importances)\n",
        "plt.show()"
      ],
      "execution_count": 0,
      "outputs": []
    },
    {
      "cell_type": "code",
      "metadata": {
        "id": "YZYl2J1Ijina",
        "colab_type": "code",
        "colab": {}
      },
      "source": [
        "# column_set = ['maximum_nights','id','host_listings_count','security_deposit','cleaning_fee','availability_365','minimum_nights','number_of_reviews',\n",
        "#               'smart_location','extra_people','neighbourhood_cleansed','neighbourhood_group_cleansed','room_type','accommodates','beds','guests_included',\n",
        "#               'bedrooms','gym','property_type','child_friendly','elevator','long_term_stays','Laundry','private_entrance','bathrooms','self_check_in','coffee_machine',\n",
        "#               'cancellation_policy','check_in_24h','tv']\n",
        "column_set = ['maximum_nights','security_deposit','cleaning_fee','availability_365','number_of_reviews',\n",
        "              'smart_location','extra_people','neighbourhood_cleansed','neighbourhood_group_cleansed','room_type','accommodates','beds','guests_included',\n",
        "              'bedrooms','gym','property_type','child_friendly','elevator','long_term_stays','Laundry','private_entrance','bathrooms','self_check_in','coffee_machine',\n",
        "              'cancellation_policy','check_in_24h','tv']\n",
        "new_X = X[column_set]\n",
        "new_X"
      ],
      "execution_count": 0,
      "outputs": []
    },
    {
      "cell_type": "code",
      "metadata": {
        "id": "JZhFZH7mvHpL",
        "colab_type": "code",
        "colab": {}
      },
      "source": [
        "# another_column_set = ['id','host_response_rate','host_is_superhost','host_listings_count','host_identity_verified','neighbourhood_cleansed','neighbourhood_group_cleansed',\n",
        "#                       'smart_location','property_type','room_type','accommodates','bathrooms','bedrooms','beds','security_deposit','cleaning_fee','guests_included','extra_people',\n",
        "#                       'minimum_nights','maximum_nights','availability_365','number_of_reviews','review_scores_rating','review_scores_value','instant_bookable','cancellation_policy',\n",
        "#                       'check_in_24h','air_conditioning','balcony','bed_linen','breakfast','tv','coffee_machine','cooking_basics','Smoked_detection','parking','Bathroom_amenities',\n",
        "#                       'child_friendly','Laundry','elevator','gym','outdoor_space','host_greeting','long_term_stays','pets_allowed','private_entrance','secure','self_check_in','Heating',\n",
        "#                       'accessible','well_lit_entrance','essentials']\n",
        "\n",
        "another_column_set = ['host_response_rate','host_is_superhost','host_listings_count','host_identity_verified','neighbourhood_cleansed','neighbourhood_group_cleansed',\n",
        "                      'smart_location','property_type','room_type','accommodates','bathrooms','bedrooms','beds','security_deposit','cleaning_fee','guests_included','extra_people',\n",
        "                      'minimum_nights','maximum_nights','availability_365','number_of_reviews','review_scores_rating','review_scores_value','instant_bookable','cancellation_policy',\n",
        "                      'check_in_24h','air_conditioning','balcony','bed_linen','breakfast','tv','coffee_machine','cooking_basics','Smoked_detection','parking','Bathroom_amenities',\n",
        "                      'child_friendly','Laundry','elevator','gym','outdoor_space','host_greeting','long_term_stays','pets_allowed','private_entrance','secure','self_check_in','Heating',\n",
        "                      'accessible','well_lit_entrance','essentials']\n",
        "\n",
        "another_new_X = X[another_column_set]"
      ],
      "execution_count": 0,
      "outputs": []
    },
    {
      "cell_type": "code",
      "metadata": {
        "id": "BwuucpV0ptBj",
        "colab_type": "code",
        "colab": {}
      },
      "source": [
        "lm = LinearRegression()\n",
        "\n",
        "#X = transformed_df\n",
        "#y = target_df\n",
        "\n",
        "new_X_train, new_X_test, new_y_train, new_y_test = train_test_split(new_X, y, test_size=0.2, random_state=123)\n",
        "\n",
        "lm.fit(new_X_train,new_y_train)"
      ],
      "execution_count": 0,
      "outputs": []
    },
    {
      "cell_type": "code",
      "metadata": {
        "id": "XmGQFho5qa9Y",
        "colab_type": "code",
        "colab": {}
      },
      "source": [
        "new_predicts = lm.predict(new_X_test)\n"
      ],
      "execution_count": 0,
      "outputs": []
    },
    {
      "cell_type": "code",
      "metadata": {
        "id": "m5Iqawukqeq-",
        "colab_type": "code",
        "colab": {}
      },
      "source": [
        "new_predicts"
      ],
      "execution_count": 0,
      "outputs": []
    },
    {
      "cell_type": "code",
      "metadata": {
        "id": "c01aXbUgpvcM",
        "colab_type": "code",
        "colab": {}
      },
      "source": [
        "df_LR_Comparison_ajinkya = pd.DataFrame({'Actual':new_y_test,'Initial Model Predicted':new_predicts})\n",
        "df_LR_Comparison_ajinkya"
      ],
      "execution_count": 0,
      "outputs": []
    },
    {
      "cell_type": "code",
      "metadata": {
        "id": "kNm2DL2aqp8O",
        "colab_type": "code",
        "colab": {}
      },
      "source": [
        "df_LR_Comparison"
      ],
      "execution_count": 0,
      "outputs": []
    },
    {
      "cell_type": "code",
      "metadata": {
        "id": "QFU_owViq2La",
        "colab_type": "code",
        "colab": {}
      },
      "source": [
        "print(\"\"\"\n",
        "        Root Mean Squared Error: {}\n",
        "        R2 Score: {}\n",
        "        Mean Absolute Error: {}\n",
        "     \"\"\".format(\n",
        "        np.sqrt(metrics.mean_squared_error(new_y_test, new_predicts)),\n",
        "        r2_score(new_y_test, new_predicts) * 100,\n",
        "        mean_absolute_error(new_y_test, new_predicts)\n",
        "        ))"
      ],
      "execution_count": 0,
      "outputs": []
    },
    {
      "cell_type": "code",
      "metadata": {
        "id": "iaHgSRL1rFUt",
        "colab_type": "code",
        "colab": {}
      },
      "source": [
        ""
      ],
      "execution_count": 0,
      "outputs": []
    },
    {
      "cell_type": "markdown",
      "metadata": {
        "id": "_Azs5vCSxxAi",
        "colab_type": "text"
      },
      "source": [
        "Root Mean Squared Error: 55.32608221829119\n",
        "        R2 Score: 57.91173911020528\n",
        "        Mean Absolute Error: 38.47123977815358"
      ]
    },
    {
      "cell_type": "code",
      "metadata": {
        "id": "8xVyqDTCxztF",
        "colab_type": "code",
        "colab": {}
      },
      "source": [
        ""
      ],
      "execution_count": 0,
      "outputs": []
    },
    {
      "cell_type": "code",
      "metadata": {
        "id": "e0sTm23kx02D",
        "colab_type": "code",
        "colab": {}
      },
      "source": [
        ""
      ],
      "execution_count": 0,
      "outputs": []
    },
    {
      "cell_type": "code",
      "metadata": {
        "id": "nO7sMwXMx0yl",
        "colab_type": "code",
        "colab": {}
      },
      "source": [
        ""
      ],
      "execution_count": 0,
      "outputs": []
    },
    {
      "cell_type": "code",
      "metadata": {
        "id": "kEyXgOCwx0uq",
        "colab_type": "code",
        "colab": {}
      },
      "source": [
        "lm_new = LinearRegression()\n",
        "another_new_X_train, another_new_X_test, another_new_y_train, another_new_y_test = train_test_split(another_new_X, y, test_size=0.2, random_state=123)\n",
        "\n",
        "lm_new.fit(another_new_X_train,another_new_y_train)"
      ],
      "execution_count": 0,
      "outputs": []
    },
    {
      "cell_type": "code",
      "metadata": {
        "id": "mAXkwdYnx0qF",
        "colab_type": "code",
        "colab": {}
      },
      "source": [
        "another_new_predicts = lm_new.predict(another_new_X_test)"
      ],
      "execution_count": 0,
      "outputs": []
    },
    {
      "cell_type": "code",
      "metadata": {
        "id": "KAycWAbHx0nG",
        "colab_type": "code",
        "colab": {}
      },
      "source": [
        "feature_imp_df = pd.DataFrame({'Actual':another_new_y_test,'LM Feature imp':another_new_predicts})\n",
        "feature_imp_df"
      ],
      "execution_count": 0,
      "outputs": []
    },
    {
      "cell_type": "code",
      "metadata": {
        "id": "Ya7zLfBKx0kk",
        "colab_type": "code",
        "colab": {}
      },
      "source": [
        "print(\"\"\"\n",
        "        Root Mean Squared Error: {}\n",
        "        R2 Score: {}\n",
        "        Mean Absolute Error: {}\n",
        "     \"\"\".format(\n",
        "        np.sqrt(metrics.mean_squared_error(another_new_y_test, another_new_predicts)),\n",
        "        r2_score(another_new_y_test, another_new_predicts) * 100,\n",
        "        mean_absolute_error(another_new_y_test, another_new_predicts)\n",
        "        ))"
      ],
      "execution_count": 0,
      "outputs": []
    },
    {
      "cell_type": "code",
      "metadata": {
        "id": "G1mKSR4ZywOu",
        "colab_type": "code",
        "colab": {}
      },
      "source": [
        ""
      ],
      "execution_count": 0,
      "outputs": []
    }
  ]
}